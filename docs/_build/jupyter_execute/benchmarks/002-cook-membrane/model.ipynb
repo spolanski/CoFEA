{
 "cells": [
  {
   "cell_type": "code",
   "execution_count": 1,
   "metadata": {},
   "outputs": [
    {
     "data": {
      "application/vnd.jupyter.widget-view+json": {
       "model_id": "cdd21625f9fc4353a23f11666e323827",
       "version_major": 2,
       "version_minor": 0
      },
      "text/plain": [
       "AppLayout(children=(Scene(children=[IsoColor(input=('U', 'D2'), max=32.5, parent=TetraMesh(data=[Data(componen…"
      ]
     },
     "metadata": {},
     "output_type": "display_data"
    }
   ],
   "source": [
    "import numpy as np\n",
    "import pyvista as pv\n",
    "from ipywidgets import FloatSlider, FloatRangeSlider, Dropdown, Select, Box, AppLayout, jslink, Layout, VBox, HBox\n",
    "from ipygany import Scene, IsoColor, TetraMesh, Component, ColorBar, colormaps\n",
    "\n",
    "mesh = TetraMesh.from_vtk('benchmarks/002-cook-membrane/elmer.vtu', show_edges = True)\n",
    "\n",
    "dispy_min = 0.0\n",
    "dispy_max = 32.5\n",
    "\n",
    "# Colorize by height\n",
    "colored_mesh = IsoColor(mesh, input=('U','D2'), min=dispy_min, max=dispy_max)\n",
    "\n",
    "# Create a slider that will dynamically change the boundaries of the colormap\n",
    "colormap_slider_range = FloatRangeSlider(value=[dispy_min, dispy_max], min=dispy_min, max=dispy_max, step=(dispy_max - dispy_min) / 100.)\n",
    "\n",
    "jslink((colored_mesh, 'range'), (colormap_slider_range, 'value'))\n",
    "\n",
    "# Create a colorbar widget\n",
    "colorbar = ColorBar(colored_mesh)\n",
    "\n",
    "# Colormap choice widget\n",
    "colormap = Dropdown(\n",
    "    options=colormaps,\n",
    "    description='colormap:'\n",
    ")\n",
    "\n",
    "jslink((colored_mesh, 'colormap'), (colormap, 'index'))\n",
    "\n",
    "AppLayout(\n",
    "    header=Scene([colored_mesh]),\n",
    "    left_sidebar=VBox((colormap, colormap_slider_range)),\n",
    "    right_sidebar=(colorbar),\n",
    "    pane_widths=[1, 0, 1],\n",
    "    pane_heights=['80%','20%',0],\n",
    "    footer=None,\n",
    ")"
   ]
  }
 ],
 "metadata": {
  "kernelspec": {
   "display_name": "Python 3",
   "language": "python",
   "name": "python3"
  },
  "language_info": {
   "codemirror_mode": {
    "name": "ipython",
    "version": 3
   },
   "file_extension": ".py",
   "mimetype": "text/x-python",
   "name": "python",
   "nbconvert_exporter": "python",
   "pygments_lexer": "ipython3",
   "version": "3.6.9"
  },
  "widgets": {
   "application/vnd.jupyter.widget-state+json": {
    "state": {
     "00b5effc88b94766bff8023d20d30815": {
      "buffers": [
       {
        "data": "RpGAObtAc7lJ5UU55uZFufra+7gGYFM5G/iLukGd0TrV7Ka4P9cWOf+GUrr6pAK6wGcYucCsCDpLb/k5sxA/OZHYtrm758G39kY9OKwqMrkwFVk6hiIqOhVTGDle7we6y7/GueVyLLk8B7U51zIEOPH8FTpKjdg66HQYumjU17p0U9I69VjpOvQi6jmxbmI6cbaxOocahbouMF26ntkKund8pLqjKOm6pKLpue/YabqlqK+6KRGXOjDwLDqulQw6W075twN1ZrkXd4a5ARKwuucdp7rMV4+6faTNN9cjbjl5mZE515auOnSnpjqGYI86Kz4MOjTFhrkk3E65irOCOdlyDDc4Ff+4ueQ9ut19k7mbPdo55FRxOilIcroQ1sy5zXKDOWXUETnqAxm6vyJMOdafTDlKaWe5dzzQua8H1TovON45/CdguQAAAAAAAAAAAAAAAAAAAAAAAAAAAAAAAAAAAAAAAAAAAAAAAAAAAAAAAAAAUX+AuIfjt7lRHIQ5EUYsOVR+4rlJsFO5XMl2OVkPl7kYLZu6vyNFOZYjhTooldw47L2sOYpv17nIJY65LfecOSbKprlmmGc6NKAzujcMmLme+ww6eKGsOQAAAAAAAAAAAAAAAAAAAAAAAAAAAAAAAAAAAAAAAAAAAAAAAAAAAABAwe63D2uRN0JhmrQYH42zP5dutKwwIbbIaAK3DtVxuPKMnjfugMK2aWO4NpSzOzb//5a21pWXOJczH7gQTBs3SzMwNsxbXTeBut03c2+XtxQCUDg33Su4fHYEuLEuSLfdlKi1N5MtthzTTDdbaWM15CznuAwuAjiDvks3",
        "encoding": "base64",
        "path": [
         "array",
         "data"
        ]
       }
      ],
      "model_module": "ipygany",
      "model_module_version": "^0.5.0",
      "model_name": "ComponentModel",
      "state": {
       "_model_module": "ipygany",
       "_model_module_version": "^0.5.0",
       "_model_name": "ComponentModel",
       "_view_count": null,
       "_view_module": null,
       "_view_module_version": "",
       "_view_name": null,
       "array": {
        "dtype": "float32",
        "shape": [
         156
        ]
       },
       "name": "ZZ"
      }
     },
     "02a95dda6ffc4414aa7476a6c1db4fbc": {
      "model_module": "@jupyter-widgets/controls",
      "model_module_version": "1.5.0",
      "model_name": "VBoxModel",
      "state": {
       "_dom_classes": [],
       "_model_module": "@jupyter-widgets/controls",
       "_model_module_version": "1.5.0",
       "_model_name": "VBoxModel",
       "_view_count": null,
       "_view_module": "@jupyter-widgets/controls",
       "_view_module_version": "1.5.0",
       "_view_name": "VBoxView",
       "box_style": "",
       "children": [
        "IPY_MODEL_57318811c80d4d65bb2b4f4accaa36ba",
        "IPY_MODEL_14d1da1ec32947af8d30011300210c63"
       ],
       "layout": "IPY_MODEL_14eaa74ea6c546b8976ac002acdf89d1"
      }
     },
     "0b16abdb8ae24c0cb3f48863f8f7ea0d": {
      "buffers": [
       {
        "data": "CugNQaIoCUGA1CRACyQuQDtTl0B1jo9ABfrhwHLE7MB68A1BctwUQcl2IEFcGx9B6BMPQRh990DXL8ZATrmmQN83jkBdv2BA/dkNQSXYGEGmDx1B+QMbQZjpEUEMAgBBwZDOQFw4oUBKQYZAvRhcQNB+60CQSQhBctzVQA8oEUFuTC3AEY0EwHhi4r+nBcu/oS2bvzVf/b7Kax0/Tij4P+PCIcCILuC/JZLYv8+Dt7+THYe/Qs86vxaFTT6PqgJACcRRQO0qWkCdEU1AwFvwP3b71L7hXYbAnFBMQMi1X0ARqkRA61bHP7oyTL8MB6LAKejhQM1120BJEctADRqIQOrnV0Dj/ClAPbblvjm5ecAHsVO/39V8PbaEPkBXeGlAFO2EQGk6x0Ag7/pAVd6oQNWVX0Aom94/wa0bwO/mlb9REvK+jX+3P6qCH0AC1k4/6iRfv2uCDEA/qVpA27+HQEW7lkDzyIc/KEn/v1InuD8Tz/68JZJwQNDVl0DecdhA+n7WQJhM4UDw+YdAgcwqP/fhJb3eymq/v4JcwErtlb5NFTBAR6xjQNKMg0ArTbdAU67gQOwX4kAcfCVAjzk7P0eT875seArAc6KpP0Q0g0Cee1FAJJz+Px5tSkBN3Aa/rHO8v5xtDECH4YFAAioEP/jCxD+QgxBAI/MEQaSIakDQ8j5AXFqNP7PNjEA8g1BAM+0CQcFusL/YtqvAvJGIQAJUG0HdQdRALLzLP7u1LD/lm/1ARtP5QCAnYL9VodE+lPaiQLqgFECPZAxB4C2UQF3tCUGq8YfAXTP3QH/2s7/c9J+/owfGvm7aaD+6oPK/",
        "encoding": "base64",
        "path": [
         "array",
         "data"
        ]
       }
      ],
      "model_module": "ipygany",
      "model_module_version": "^0.5.0",
      "model_name": "ComponentModel",
      "state": {
       "_model_module": "ipygany",
       "_model_module_version": "^0.5.0",
       "_model_name": "ComponentModel",
       "_view_count": null,
       "_view_module": null,
       "_view_module_version": "",
       "_view_name": null,
       "array": {
        "dtype": "float32",
        "shape": [
         156
        ]
       },
       "name": "YY"
      }
     },
     "0c89f4449b5143dcb14042079d6b9f26": {
      "model_module": "@jupyter-widgets/base",
      "model_module_version": "1.2.0",
      "model_name": "LayoutModel",
      "state": {
       "_model_module": "@jupyter-widgets/base",
       "_model_module_version": "1.2.0",
       "_model_name": "LayoutModel",
       "_view_count": null,
       "_view_module": "@jupyter-widgets/base",
       "_view_module_version": "1.2.0",
       "_view_name": "LayoutView",
       "align_content": null,
       "align_items": null,
       "align_self": null,
       "border": null,
       "bottom": null,
       "display": null,
       "flex": null,
       "flex_flow": null,
       "grid_area": null,
       "grid_auto_columns": null,
       "grid_auto_flow": null,
       "grid_auto_rows": null,
       "grid_column": null,
       "grid_gap": null,
       "grid_row": null,
       "grid_template_areas": null,
       "grid_template_columns": null,
       "grid_template_rows": null,
       "height": null,
       "justify_content": null,
       "justify_items": null,
       "left": null,
       "margin": null,
       "max_height": null,
       "max_width": null,
       "min_height": null,
       "min_width": null,
       "object_fit": null,
       "object_position": null,
       "order": null,
       "overflow": null,
       "overflow_x": null,
       "overflow_y": null,
       "padding": null,
       "right": null,
       "top": null,
       "visibility": null,
       "width": null
      }
     },
     "14d1da1ec32947af8d30011300210c63": {
      "model_module": "@jupyter-widgets/controls",
      "model_module_version": "1.5.0",
      "model_name": "FloatRangeSliderModel",
      "state": {
       "_dom_classes": [],
       "_model_module": "@jupyter-widgets/controls",
       "_model_module_version": "1.5.0",
       "_model_name": "FloatRangeSliderModel",
       "_view_count": null,
       "_view_module": "@jupyter-widgets/controls",
       "_view_module_version": "1.5.0",
       "_view_name": "FloatRangeSliderView",
       "continuous_update": true,
       "description": "",
       "description_tooltip": null,
       "disabled": false,
       "layout": "IPY_MODEL_0c89f4449b5143dcb14042079d6b9f26",
       "max": 32.5,
       "min": 0.0,
       "orientation": "horizontal",
       "readout": true,
       "readout_format": ".2f",
       "step": 0.325,
       "style": "IPY_MODEL_e8815d87037f4665b99421e06ce84102",
       "value": [
        0.0,
        32.5
       ]
      }
     },
     "14eaa74ea6c546b8976ac002acdf89d1": {
      "model_module": "@jupyter-widgets/base",
      "model_module_version": "1.2.0",
      "model_name": "LayoutModel",
      "state": {
       "_model_module": "@jupyter-widgets/base",
       "_model_module_version": "1.2.0",
       "_model_name": "LayoutModel",
       "_view_count": null,
       "_view_module": "@jupyter-widgets/base",
       "_view_module_version": "1.2.0",
       "_view_name": "LayoutView",
       "align_content": null,
       "align_items": null,
       "align_self": null,
       "border": null,
       "bottom": null,
       "display": null,
       "flex": null,
       "flex_flow": null,
       "grid_area": "left-sidebar",
       "grid_auto_columns": null,
       "grid_auto_flow": null,
       "grid_auto_rows": null,
       "grid_column": null,
       "grid_gap": null,
       "grid_row": null,
       "grid_template_areas": null,
       "grid_template_columns": null,
       "grid_template_rows": null,
       "height": null,
       "justify_content": null,
       "justify_items": null,
       "left": null,
       "margin": null,
       "max_height": null,
       "max_width": null,
       "min_height": null,
       "min_width": null,
       "object_fit": null,
       "object_position": null,
       "order": null,
       "overflow": null,
       "overflow_x": null,
       "overflow_y": null,
       "padding": null,
       "right": null,
       "top": null,
       "visibility": null,
       "width": null
      }
     },
     "17b7d0285db647e0bb2f82346e54cd99": {
      "model_module": "@jupyter-widgets/base",
      "model_module_version": "1.2.0",
      "model_name": "LayoutModel",
      "state": {
       "_model_module": "@jupyter-widgets/base",
       "_model_module_version": "1.2.0",
       "_model_name": "LayoutModel",
       "_view_count": null,
       "_view_module": "@jupyter-widgets/base",
       "_view_module_version": "1.2.0",
       "_view_name": "LayoutView",
       "align_content": null,
       "align_items": null,
       "align_self": null,
       "border": null,
       "bottom": null,
       "display": null,
       "flex": null,
       "flex_flow": null,
       "grid_area": "header",
       "grid_auto_columns": null,
       "grid_auto_flow": null,
       "grid_auto_rows": null,
       "grid_column": null,
       "grid_gap": null,
       "grid_row": null,
       "grid_template_areas": null,
       "grid_template_columns": null,
       "grid_template_rows": null,
       "height": null,
       "justify_content": null,
       "justify_items": null,
       "left": null,
       "margin": null,
       "max_height": null,
       "max_width": null,
       "min_height": null,
       "min_width": null,
       "object_fit": null,
       "object_position": null,
       "order": null,
       "overflow": null,
       "overflow_x": null,
       "overflow_y": null,
       "padding": null,
       "right": null,
       "top": null,
       "visibility": null,
       "width": null
      }
     },
     "236fc2a0da664ade8c4b56687826c0be": {
      "buffers": [
       {
        "data": "AziLq3j6K6uLLEvCOqO9wQ4QC6xcte2r7MGgQ9NNSkMiwBSq+P9PqgMAzqj+t0wrDRzyqhKBgqruj9Oq9v/XqNL//6T5X1Sp7hYJrAwAHKoSAKSq+iqwqvqPv6kHAMep9f+oKgzAY6n8fx+pAwBXKP0//6oJCAor/Q++rPhaASz4hw+rDgBCqf7bf6smiOErFFoMrMGCeqv3i4es/0NZrHlmL6sBgKKp+/92KgCAtKn5v86pZANJrOu/t6vmH8YrU6WAwpHt5cKLLO3C6kSewl8kPMA9iuxCZPv/wrhe8cICq93CoyN0whim4kEtkkxD5iAFLP5/syoi5Gqr6/yGqQu/kKoL9oMqvFHUKf//uCkHqF+r62xXrBYuGixGgPypCYDRqgs8rKv6fzqp902rqnU6Hir52Wqp/v+uqPcHLauRlQAr6BXjq/V/LalA8O6pExcXqv8Dfav+2u4rYNedq/oavqv7LtUqf3LXKUXEEqr774spAcCbKRAgwKr6f+qnDHCWKgo8kKoEJLwr+L8FLPiQZisHeGkq8/9Dqfo/3amHRLcpBlC7qQgA9ikEoICq5eILqwJglKr3OQ+sDFoOrPjP2asGsJCpdbQGKvNtwysCYL6q/eM5q6kmtCv9vwaqQ+tNKQIArCcCQHIrCvT+qvTS0Coalxaq/MJAK+E/A6oDAACoBAAXKwOANCwddA2q9f/gKy3QNCwEAKAp6J/nKQMwcisIoGarMADzqf//B6v9LySrB9qDLAIigasBADqp/t8DqwhwtCgB0swqAGCFqRgAZCoOAHqo3L9XqpSWaav9P4MrAhBgKwxUKSzj/8uo",
        "encoding": "base64",
        "path": [
         "array",
         "data"
        ]
       }
      ],
      "model_module": "ipygany",
      "model_module_version": "^0.5.0",
      "model_name": "ComponentModel",
      "state": {
       "_model_module": "ipygany",
       "_model_module_version": "^0.5.0",
       "_model_name": "ComponentModel",
       "_view_count": null,
       "_view_module": null,
       "_view_module_version": "",
       "_view_name": null,
       "array": {
        "dtype": "float32",
        "shape": [
         156
        ]
       },
       "name": "F1"
      }
     },
     "24fd362f51da4e10b25cc87aa6da57a0": {
      "buffers": [
       {
        "data": "TOOJPppViD6X2RU+jWcUPpn0HD6X6xc+npibPuMpnz6Ko5A+b7ujPvnPsz7XYbs+cCe0Puskpz7nR48+kFNyPu8uRD4+kB8+OVuSPqN/pz7PPbM+SnS2PjqGtj6RwKo+aEqRPjaKaz7n9Tw+m8cgPuTEVT7yZII+lUdGPjPshj5Hirg+AfCjPumCmD5+ypA+oJKGPlk8XT4nDCA++XMGPgPevz54rqA+D8qWPsmUjj4p0oU+e9FYPu74Jj7ZQAA+HBgjPlp8Jz7NERU+MAHPPYTFOD3ayLI9iSkjPk2fJj6X0A0+1byvPddrFT2Jpt09w1xwPmihcD5sloE+hkR7PiJJST76QDE+6+bKPQEUUT5t0k8+cag5PpHvFD75tzM+A34mPrxgTz48a44+4H+APn+faz58dCU+v0lYPUDRaj58E0g+2YsZPvppBj6aGy8+aaLCPQwr4T04zgQ+RkwaPgXkID6VpM89KnjxPS15HD7o3L09uw1SPvbVgT70FIw+brxoPkaKbT5GQio+g6QxPoXmLj5/IEs+wRY/PvdywD2emDM+bP80Pgzicj4sgIg+FKmAPtniaD6pYw8+c/QjPgK7Nj4sIUI98+cZPjzeED4xJjA+2jHHPVPy+T0v7eM9BkywPeIhQD7qdxg+4qGvPUvYRz6ELEc++BSFPpI5Kz4dbhs+AMEFPr/fHD5i+ys+1YGNPhpEij4SE4c+pv1LPmqPrj7FLZc+AfjsPWBWLD5fz4M+TXN5PkMXdD6q7o09qZyEPm1+Ij5UCJs+St5zPsHNpT6+5749Bf6hPiZCmz7HSoI+hiRgPuurFj6rXfg8",
        "encoding": "base64",
        "path": [
         "array",
         "data"
        ]
       }
      ],
      "model_module": "ipygany",
      "model_module_version": "^0.5.0",
      "model_name": "ComponentModel",
      "state": {
       "_model_module": "ipygany",
       "_model_module_version": "^0.5.0",
       "_model_name": "ComponentModel",
       "_view_count": null,
       "_view_module": null,
       "_view_module_version": "",
       "_view_name": null,
       "array": {
        "dtype": "float32",
        "shape": [
         156
        ]
       },
       "name": "E_Mises"
      }
     },
     "2b31547b6512460383dade897f8e7a40": {
      "model_module": "ipygany",
      "model_module_version": "^0.5.0",
      "model_name": "DataModel",
      "state": {
       "_model_module": "ipygany",
       "_model_module_version": "^0.5.0",
       "_model_name": "DataModel",
       "_view_count": null,
       "_view_module": null,
       "_view_module_version": "",
       "_view_name": null,
       "components": [
        "IPY_MODEL_a2bae4b046ad40219f03251f4ba6d2a4",
        "IPY_MODEL_a5a09287d600444d89215be98869cb4e",
        "IPY_MODEL_c20babf47232488283895fee73881034"
       ],
       "name": "S_Principal"
      }
     },
     "3838ab7e774d42108b359a7e7ed37330": {
      "model_module": "ipygany",
      "model_module_version": "^0.5.0",
      "model_name": "DataModel",
      "state": {
       "_model_module": "ipygany",
       "_model_module_version": "^0.5.0",
       "_model_name": "DataModel",
       "_view_count": null,
       "_view_module": null,
       "_view_module_version": "",
       "_view_name": null,
       "components": [
        "IPY_MODEL_d248e4a6408a43699b0d21668f5cc137",
        "IPY_MODEL_83b07d05132540359d9a529c6f94d736",
        "IPY_MODEL_9a94bfdf8610419894168b85c6a5e426"
       ],
       "name": "U"
      }
     },
     "3d87d7af4b4747a881f13f8e67257771": {
      "buffers": [
       {
        "data": "uwnsvWKj8L13ZnK9mQhsvc0ZrL1S0aa9dKqIvl8ojL4Khee9Q0j5vWkpBb6qrgu+PIUHvsw7/b22edi9kAG1vYqNkL30eXC9nzDovbtL/L0vZga+NuEIvhqfCb6AhAC+ItzZvaBtsL2pjIy93+xyvQBQz73/IPa9GF3AvW/x+L2aD5K++xh9vlFGab57CF2+lMxMvqLRJr504uq9yFy0vbCPlr73Q3W+Qv5lvt+uWL4raUq+pMkkvh7C+b2HV6i9Nnl1vXOgab19OT29ZUAGvdYMyLzV1q+9W5B2vYnbZL3tTDG9rmrxvOQT0LxFMti9+i3kvdqgv71qUcq94K/GvTFMlr14KoG9UdRDvfh0M74xCh++m4EKvrwPur3+eYG9HG+9vULeuL1kx9a9dyDLvcwWuL3VaH29yBlHvTD6Nr6jRBe+Sl/YvdZ/e73InZm9jz53vSBWjb0rt5S9uYODvdJ4i70pJJC9r8jLvf0/kL1CB4699/advdS+yL2Er9m9JUW7vam43r1War+9oIIBvr0VA76sZh2+XkIjvlYLOL3qn4K9vg6EvS4pu73SL9S9WnPHvSkjw7212Li9KJ/uvfsyC77I7C69Z81wvdr6lb1uf5a9BExqvdLrh71l1ni9L5iPvdfcpL3N54G98dlcvU1gqL3aC5u9iRXzvaH5eb3O9nK94xq+vd0kqr2sQG+9/2vcvfgRU752UWm+c/KXvZCpAL7Hy+a9qUInvVSg+r3Ie+G9jUzwvYJfOL6edO28tfrMvScuab2m6Oi9MTe5vXiL+L3JrLq9gJL2vZm0b77vHka+1+Envvvx2b2NQ+m8",
        "encoding": "base64",
        "path": [
         "array",
         "data"
        ]
       }
      ],
      "model_module": "ipygany",
      "model_module_version": "^0.5.0",
      "model_name": "ComponentModel",
      "state": {
       "_model_module": "ipygany",
       "_model_module_version": "^0.5.0",
       "_model_name": "ComponentModel",
       "_view_count": null,
       "_view_module": null,
       "_view_module_version": "",
       "_view_name": null,
       "array": {
        "dtype": "float32",
        "shape": [
         156
        ]
       },
       "name": "Min"
      }
     },
     "3dff32155cd9430c8736df71dd137b0f": {
      "model_module": "ipygany",
      "model_module_version": "^0.5.0",
      "model_name": "SceneModel",
      "state": {
       "_dom_classes": [],
       "_model_module": "ipygany",
       "_model_module_version": "^0.5.0",
       "_model_name": "SceneModel",
       "_view_count": null,
       "_view_module": "ipygany",
       "_view_module_version": "^0.5.0",
       "_view_name": "SceneView",
       "background_color": "white",
       "background_opacity": 1.0,
       "camera": null,
       "children": [
        "IPY_MODEL_a5c15846fcb34f51872b880c999ef720"
       ],
       "layout": "IPY_MODEL_17b7d0285db647e0bb2f82346e54cd99"
      }
     },
     "4012c4f67e944dfcb7b11008947b5806": {
      "model_module": "ipygany",
      "model_module_version": "^0.5.0",
      "model_name": "DataModel",
      "state": {
       "_model_module": "ipygany",
       "_model_module_version": "^0.5.0",
       "_model_name": "DataModel",
       "_view_count": null,
       "_view_module": null,
       "_view_module_version": "",
       "_view_name": null,
       "components": [
        "IPY_MODEL_856e04fecab64526be92d89bf10a5fa2",
        "IPY_MODEL_aeb9dd4e6f6d4d4db680150ea5407f5e",
        "IPY_MODEL_00b5effc88b94766bff8023d20d30815",
        "IPY_MODEL_9775424521bb4f61885c7a8e8ac2c512",
        "IPY_MODEL_e84381e62635437590d9320a58e6465b",
        "IPY_MODEL_d02df51792e441a8bc4ed257c7df2a43"
       ],
       "name": "E"
      }
     },
     "4075fd436a35415a97e18ff3bec9abce": {
      "model_module": "@jupyter-widgets/controls",
      "model_module_version": "1.5.0",
      "model_name": "LinkModel",
      "state": {
       "_model_module": "@jupyter-widgets/controls",
       "_model_module_version": "1.5.0",
       "_model_name": "LinkModel",
       "_view_count": null,
       "_view_module": "@jupyter-widgets/controls",
       "_view_module_version": "1.5.0",
       "_view_name": null,
       "source": [
        "IPY_MODEL_a5c15846fcb34f51872b880c999ef720",
        "colormap"
       ],
       "target": [
        "IPY_MODEL_57318811c80d4d65bb2b4f4accaa36ba",
        "index"
       ]
      }
     },
     "4bc3a12106db4751a07512fe16403bcd": {
      "buffers": [
       {
        "data": "wt/PvXEsXjs5PXQ9GwB9u3ZAiD3Y+pg9nI+WvdSYuD4hWza+6BIuvkBQPr6L1js9phGOPDXpeLur5q49DzGUPeUllD0pe+s9swE9PZ8g0T0r++49F39rPtoE2D0Qg++8thJavsXK6L1G/X+9jq5SvYQq9bwiy629VFPSPjrmbD7G1W291jZVvh9Ibr5nD1S+3ezvvShrij0cmRe+JhrkvDDUuT6xaao9x2i9Pdhl2D1ffxI+eVf9PXVhmrxXXjK+OceaPTw+0LwIyBe+FCCivmstnL7QCZG+7UpmvUg/UDzD1HY9ilUDPjrmjD6F6q4+ZeR8vtyeIL4Ipj89FrgGPSM6ujpcoVk8veKBvunv5b2n6l6+CycZvtX30LxuMBQ9sE6avVvS8b0iJSw8rGL9OxvgHT2GqQ2+KEW7ve7o372u00i+O9MVPci/RT2nAq68B0IyvJpO4bx8Kue9fhjhPYuFlj2+W5q9oGyKPfH4EbyIeku94oH3vFWGkb2TO4c9sMb5PT8Y3bwCUJA9DRmXPrjXmD2S7FE9fXebPoHmmDzn/R+9mwI5vVGrnrzAOQa8orCwPeVhET6WI0Q+P+PiPe2u/TzHvVk+MyKHvMzPHT41T0Q9AWnfPXgKGT7+LxK9+yR3PawPNTw/Gwk+T30cOx1nQzuiLd87r2Kcvfefyjs7HeM8C7PwvZfQMz3a8oC7lvfnvOGaq73akA8+j9uUvBbYmD0OQzC9+PwgvuC5Bz4lIvy94PmAPWvO5rwpd9+9N+RavbBPRb0gTCC9Pzlpu2jWvT0PSII9wmyCPIEQtD3/aYS9o9+IPW8JBjuZvrK8",
        "encoding": "base64",
        "path": [
         "array",
         "data"
        ]
       }
      ],
      "model_module": "ipygany",
      "model_module_version": "^0.5.0",
      "model_name": "ComponentModel",
      "state": {
       "_model_module": "ipygany",
       "_model_module_version": "^0.5.0",
       "_model_name": "ComponentModel",
       "_view_count": null,
       "_view_module": null,
       "_view_module_version": "",
       "_view_name": null,
       "array": {
        "dtype": "float32",
        "shape": [
         156
        ]
       },
       "name": "YZ"
      }
     },
     "507e656f756944baad356a4653964ccd": {
      "model_module": "ipygany",
      "model_module_version": "^0.5.0",
      "model_name": "DataModel",
      "state": {
       "_model_module": "ipygany",
       "_model_module_version": "^0.5.0",
       "_model_name": "DataModel",
       "_view_count": null,
       "_view_module": null,
       "_view_module_version": "",
       "_view_name": null,
       "components": [
        "IPY_MODEL_24fd362f51da4e10b25cc87aa6da57a0"
       ],
       "name": "E_Mises"
      }
     },
     "56e7cd34a6604ca18652484885412335": {
      "buffers": [
       {
        "data": "iexZOWsAaLmLTDg5sIFFuSjSCbnLvT05ZiBTusvZgDrvHrg4aFg7OQKWQroIMAW6MTAbuQ7KCTrQLek5rW8WOYzlx7n8b3m4FoNhOETACLkL/F860n5OOqJJRDnAOgq6vj8Gupqrg7kx2qQ57KQMOCE0HDr0ydc6f9uRuqqW4LrV++A6Y/jeOgrEiTmjHzM6P56pOvOqcLrGVmy6XzaQuTey0Lqtguq6enj7uROBbrqt0bS6nnyMOqsehDqYqnI6O37dt4LZbblvJG+5x9aluqU/I7uVFKm7yrvzN4i6ajmvZI05rXXEOuKzaDpl1Za7IafQOY/uiblXQ2W5qt9+OQuI6zYszgu5S/qkulqlm7kWLyE52jpZOu7jNLruxc65vhkROnP7CDn0Ixe62KpKOUuiQjm4Bju5kYnouofd0DoHk1Q5Mi9LORSZLLhFjvS3gmqJuFnlLjcB0yI4XBWbuIcEcLcSPwA3eRrTOAPWYLY+u+a3jZ6guCEt0LkXn485218/OY1s47mTPS+53oAduZDJk7nRVZq6gV/zuXhtgDqDRu04qRaiOXt73rkSzo65SriPOdNgmrkDijo65/krugQBkrk1zI+59TmsOYz+C7lwfOy2NtHDuPpah7YqDEK5e6xFOaRKjDZMZyu5NMi2Nrw9wLZNHPK3ahhrNiMwzDTuk8C2rrqguJhfR7dlavK2RvdSuNorRDZY15+4QBFbNqnBKLd6jO22hRG6OM4VmjcUd7g1Y/41tzHa1Dciq2e5Cza/t7nvhDih2B+4lGkFuO2KFLfWg5u520E2ttP3PTgkbaa33guNuLzgGjgne0W6",
        "encoding": "base64",
        "path": [
         "array",
         "data"
        ]
       }
      ],
      "model_module": "ipygany",
      "model_module_version": "^0.5.0",
      "model_name": "ComponentModel",
      "state": {
       "_model_module": "ipygany",
       "_model_module_version": "^0.5.0",
       "_model_name": "ComponentModel",
       "_view_count": null,
       "_view_module": null,
       "_view_module_version": "",
       "_view_name": null,
       "array": {
        "dtype": "float32",
        "shape": [
         156
        ]
       },
       "name": "Mid"
      }
     },
     "57318811c80d4d65bb2b4f4accaa36ba": {
      "model_module": "@jupyter-widgets/controls",
      "model_module_version": "1.5.0",
      "model_name": "DropdownModel",
      "state": {
       "_dom_classes": [],
       "_model_module": "@jupyter-widgets/controls",
       "_model_module_version": "1.5.0",
       "_model_name": "DropdownModel",
       "_options_labels": [
        "BrBG",
        "PRGn",
        "PiYG",
        "PuOr",
        "RdBu",
        "RdGy",
        "RdYlBu",
        "RdYlGn",
        "Spectral",
        "BuGn",
        "BuPu",
        "GnBu",
        "OrRd",
        "PuBuGn",
        "PuBu",
        "PuRd",
        "RdPu",
        "YlGnBu",
        "YlGn",
        "YlOrBr",
        "YlOrRd",
        "Blues",
        "Greens",
        "Greys",
        "Purples",
        "Reds",
        "Oranges",
        "Cividis",
        "CubehelixDefault",
        "Rainbow",
        "Warm",
        "Cool",
        "Sinebow",
        "Turbo",
        "Viridis",
        "Magma",
        "Inferno",
        "Plasma"
       ],
       "_view_count": null,
       "_view_module": "@jupyter-widgets/controls",
       "_view_module_version": "1.5.0",
       "_view_name": "DropdownView",
       "description": "colormap:",
       "description_tooltip": null,
       "disabled": false,
       "index": 0,
       "layout": "IPY_MODEL_e3aa3336a6084531852a29dec6938246",
       "style": "IPY_MODEL_cc48763a36834869a63c523d8179cff5"
      }
     },
     "589b245ea3484b1e85230c2c7f23991f": {
      "buffers": [
       {
        "data": "Qj4UwrP7C0KfPEDBO3A3QRBAzr/uQhdAjdfaQjvf0MJdPKrCmC7VwlI4xMLyEsrCy+HOwummyMI/5qnC7/iLwmZmT8LzTiLC0oCfQotszELu/NlCkS3SQh3ayUI2LcJC6QaaQi4QdkLVZ0dCsRAkQoVrwcGynS3C5XLfQSHwKEJmJt1C+EKtQjCspkKqwpdC7nyOQiI9dEIH3yhCxLFNQYfWzcIQOrvC5522wv22psJxXYLCMlVFwousN8LlYX/BNZ4jwqmkKcIQmDvCP7UYwjFrB0ENYJdCAZ4mQmVZO0LSLy5C/CkDQuzdv8AJipHC+FO3wuwR7sKa+QzDYnATw/KS18LUWpzCP0YuwkrMO0P+VPJC75iwQlCNI0JAM7rCCwxTwPiT7cJ/ag3DF3kUww6NCcMAgO7ClgNLQvo+BkNWDtRCzkh7Qr7/gMLxFK7CF7xwwFio/0GlThDCdrFrwl66F8KZO+JBOeWDQqQwosIncS9CKavAQjGoD0MhEA5Dc2j5Qk7iskJE+p0/ke1/wuwR3sK6KRHD0YI8wykLHEKBprVCliHAQsl28EKLzBFDiSEbQx/F5kIJ+QLC4N6wwvgT/sKxIUjCfLKgQk5iDkLgbXNCpT27wf5DKUHmP7g/bMmGwjrDoUJwn2dCyMc0wsk2yUJ24IZC/Ef4qgMA4Cf3/8UmAMCRqta/yKsPAOgoBQBBq/RUJCoAAAAA/P+/qQ8AMCm5//spBwBQqeA3xSvi/y8q339zqvf/M6sNoIaoEQAWKgsAQCkDABYp3v9tqu/jnqr7/x+o7v/3qgaQYqr+/zep2/9+qvytEav7/9yn",
        "encoding": "base64",
        "path": [
         "array",
         "data"
        ]
       }
      ],
      "model_module": "ipygany",
      "model_module_version": "^0.5.0",
      "model_name": "ComponentModel",
      "state": {
       "_model_module": "ipygany",
       "_model_module_version": "^0.5.0",
       "_model_name": "ComponentModel",
       "_view_count": null,
       "_view_module": null,
       "_view_module_version": "",
       "_view_name": null,
       "array": {
        "dtype": "float32",
        "shape": [
         156
        ]
       },
       "name": "F3"
      }
     },
     "62637a6ecdca46b0ba497ca16950b445": {
      "buffers": [
       {
        "data": "7C/yQNWV60DiO4dAETaGQCi4EkAGuxdAvFljv0siR7+ZOwVBOrsYQYcWJ0HvyS1B4lgmQVUwGUEEnAFBzLTZQP8JsUBrt5BAF2UHQecdHEHNzCZB8WMpQbG/KEE7gRxB1rkDQV7X00C6a6pAOjuRQPW+kEADsspAhj2GQJKWz0Ajvl/AMo+cwAn+m8D/ypPA9daCwN9sN8B+OEC/y509P/Z6ecAEVqHAgbKcwIp2ksAgtYLAbLI6wDV7nL+vJZw/jBWRQJYmjUAlemlASMQYQIV8nD+p2bs+uqCQQEymi0DCNFpAKzUFQBR5hj9Gsew+XAPHQMAJ4ECLVPFAz73eQMmOqUBV3otAysMYQIHpAL95rybAxsT+v4Qq1T+qmptAF9lAQCS0tUAEoQRBp7PrQM6NyEAeM3hARuucP98yC8ChhCHA627OvqKcfEDqyotAsvQ3QFvTqD8hPB5AUb2NQM0GkUAmN0I/uwxPP4tPjkAP0Yg/v4K1QEWB5kB8JwJBM1DYQAkbxkA66U9A2LvHv8E5579tHPW/HF6wvg4VD0DMRY5AWFacQMdj00CQZvlAol3wQN1B00DtDaI/TTKWvxoX/r/vIJo/dVlgQFdgTkCYhqRAmpQAQL68LEA7AU1Ap8vOPzSFqUDvII1ARnwTQAWLoUAX8ZxAFsHeQA+Xl0DKN4xAbtySPulIPkAng4xAZusDQX/7hcBFnX2/pvK1QFkXIkFu6QlBP4woQCYB1r85f+1AoKa/QB7+bMA1B9g/NqvtQLKAdUAteBBBNIDXQI6vGUG1bsO8JWkVQVcmXsBbzoLAPPdGwKILCr+Ne1M/",
        "encoding": "base64",
        "path": [
         "array",
         "data"
        ]
       }
      ],
      "model_module": "ipygany",
      "model_module_version": "^0.5.0",
      "model_name": "ComponentModel",
      "state": {
       "_model_module": "ipygany",
       "_model_module_version": "^0.5.0",
       "_model_name": "ComponentModel",
       "_view_count": null,
       "_view_module": null,
       "_view_module_version": "",
       "_view_name": null,
       "array": {
        "dtype": "float32",
        "shape": [
         156
        ]
       },
       "name": "XY"
      }
     },
     "67a0dabc641e4ed58e3d0974889f8556": {
      "model_module": "@jupyter-widgets/controls",
      "model_module_version": "1.5.0",
      "model_name": "LinkModel",
      "state": {
       "_model_module": "@jupyter-widgets/controls",
       "_model_module_version": "1.5.0",
       "_model_name": "LinkModel",
       "_view_count": null,
       "_view_module": "@jupyter-widgets/controls",
       "_view_module_version": "1.5.0",
       "_view_name": null,
       "source": [
        "IPY_MODEL_a5c15846fcb34f51872b880c999ef720",
        "range"
       ],
       "target": [
        "IPY_MODEL_14d1da1ec32947af8d30011300210c63",
        "value"
       ]
      }
     },
     "6e10f2491a1f46109b5cee3fb0fa8eec": {
      "buffers": [
       {
        "data": "pUlHQAhaDUAqjJ1Af/adQCDvV8DRXEvAqRPDwSBjyMFMcb1AJh4TQZzEMkHl8j5BseE8QeXQNUF+HSRBGS0PQSMQ50ActrRAUffLQG40G0E5RTFBS+o4QYbJPUEofjlBBhIlQa2jCUFSft5A2GS4QLR2u7/+mny+i8O5vxdK5r30fbbB3OiSwV+YhMFgdnrBysNowRzrQMFfGArB+Um7wA1xusGNKIzB5BSCwcHKdME8vWXB8WM+wWg/E8FqaqLAZ5vDQP947kD7kfZA+FOrQGuBET81ewzB64vEQDyI80DWqPFA5NqPQKhwDL/vOCvBknpvPkHUsECG5vFAgQkPQZMYBkHptwFBDY5GQAmKesEAbzvB4vUfwZ4HpsDvye1AUAFqwErv3z+A4AZBUo8DQfvXEkE4EO9AJV2AwOqVYMGOdS/BfETxwPkP6T8AOshALCpev7a5e8ANpi3AXMkgQGQeAUDTh5vA2U4KwTMzeUA6kqTAOX8FQe/hFkGonQdBNSmiQHSW8T7ECF/Aw9gTweJpGcF9P0HBKA9jwfiqTUBSjwNBBhLvQPKYE0FnpxBBkWHhQLsnZUB9IrDAdWUJwf2HJcGdhU3AbqPeQAt7xr/P2oxAKQUVwLU39L9HOMk/RwOrwGiRwkAcziZA5UTzvz8A8ECAGghBUwWLP+cY10DZQqtArmTXwOFdMMAUBf9A+BnjQBfZccEZhKPBxTj2QAkbMkGVZSVBzcy/QACRDcGpvGFABANIv49TUMGJXjRA7CMXQUok+kBONBJB7eQSQTnWKUGa9xPB8fQoQa5HkMEDeGDBvVI+wQ2O+8DGogHA",
        "encoding": "base64",
        "path": [
         "array",
         "data"
        ]
       }
      ],
      "model_module": "ipygany",
      "model_module_version": "^0.5.0",
      "model_name": "ComponentModel",
      "state": {
       "_model_module": "ipygany",
       "_model_module_version": "^0.5.0",
       "_model_name": "ComponentModel",
       "_view_count": null,
       "_view_module": null,
       "_view_module_version": "",
       "_view_name": null,
       "array": {
        "dtype": "float32",
        "shape": [
         156
        ]
       },
       "name": "XX"
      }
     },
     "76b6e15363b1447385450b7609f4470a": {
      "buffers": [
       {
        "data": "Ci5+QPCnYkBxOB9AduAgQG+g4D6PU+Q+ZDsnwf2HKcGBBJxADavDQBYY3kCv6+VAh8TaQHfWykCfyK5AV+yVQJ/NdEAdVUFAMQihQI3uykBmg95AA8/hQD/j3UCxv81AlkOwQC6tj0A/AG1AFHlCQPwd/j9EFzZAn8jXP8/aNUDe8QTB3c3TwLyzwMC4HrTAx2OjwK7ThsASFC3AKxOqv2rNCcEDfc/Ao5K+wH2zssDSxqXANsiCwCgsO8AQsHa/qTBGQA5nZECaQmVAqrcSQL2SH70sgovAIEFFQLiSa0Buo2FAis0FQD/ktb55BqTAP28cQB4zgkC/ZZJAYeCLQApLeECPx2JAjzVTP74wz8CEgYPAPbhNwGdlS79LPGhAFCA6PiMQKUD1hKpACf6OQNU+hkDwhUFAj98JwODznMAHsW/A3eoBwAEwtj+kNhVAsvMSvzbOEr+Tqm0+cqcOQJgXDkDUfaC/S7BgwC0+4T9pjNq/dlR/QATnlEBjf6FAdlR5QEm6HEDA0HM+HQM0wPSmTMBd4YvAidK5wD55hD/zPGhAF2VqQMDni0CbWptA6DCVQOhqX0A9uWa/pPwowNjYZcCLN96/CmgwQJlhVz/sFyJAAVDlvYEJ1D4kmrA+f/YPwKnBLkByxAxAAOPpvtfdPkD0N2NAa4JGQP9bW0B4CzBAm6ztv6TfCj9dFm1A1jmhQOohrsCFQgjBuap8QJkS3EB2MrNAK4cgQATKLMCz6nFAQWUUQDG2ksAhk4g/a32ZQOZcVkD5D71AUMeRQOcYy0DGhY7A5BTBQPpEzcD7V6HAv/GBwFitEsChhKW/",
        "encoding": "base64",
        "path": [
         "array",
         "data"
        ]
       }
      ],
      "model_module": "ipygany",
      "model_module_version": "^0.5.0",
      "model_name": "ComponentModel",
      "state": {
       "_model_module": "ipygany",
       "_model_module_version": "^0.5.0",
       "_model_name": "ComponentModel",
       "_view_count": null,
       "_view_module": null,
       "_view_module_version": "",
       "_view_name": null,
       "array": {
        "dtype": "float32",
        "shape": [
         156
        ]
       },
       "name": "ZZ"
      }
     },
     "827f3771440b4ac0b0e75c4593efad90": {
      "model_module": "@jupyter-widgets/base",
      "model_module_version": "1.2.0",
      "model_name": "LayoutModel",
      "state": {
       "_model_module": "@jupyter-widgets/base",
       "_model_module_version": "1.2.0",
       "_model_name": "LayoutModel",
       "_view_count": null,
       "_view_module": "@jupyter-widgets/base",
       "_view_module_version": "1.2.0",
       "_view_name": "LayoutView",
       "align_content": null,
       "align_items": null,
       "align_self": null,
       "border": null,
       "bottom": null,
       "display": null,
       "flex": null,
       "flex_flow": null,
       "grid_area": null,
       "grid_auto_columns": null,
       "grid_auto_flow": null,
       "grid_auto_rows": null,
       "grid_column": null,
       "grid_gap": null,
       "grid_row": null,
       "grid_template_areas": "\"header header\"\n\"left-sidebar right-sidebar\"",
       "grid_template_columns": "1fr 1fr",
       "grid_template_rows": "80% 20%",
       "height": null,
       "justify_content": null,
       "justify_items": null,
       "left": null,
       "margin": null,
       "max_height": null,
       "max_width": null,
       "min_height": null,
       "min_width": null,
       "object_fit": null,
       "object_position": null,
       "order": null,
       "overflow": null,
       "overflow_x": null,
       "overflow_y": null,
       "padding": null,
       "right": null,
       "top": null,
       "visibility": null,
       "width": null
      }
     },
     "83b07d05132540359d9a529c6f94d736": {
      "buffers": [
       {
        "data": "fS7gQVIn4EEAAAAAAAAAANob7kFSOO5BAAAAAAAAAAD67bZBip+RQT/GYEGBJidBd9vwQCUGqEDcEWRAtDwXQOauuT+wWS4/vAW3QdWJkUGcomBBS8gnQTBH8UBuwKdABvVhQBFwFkANVLo/Up0yP3xh6kHpyORBzO7qQf325EEyknk/N08LQKqCeUBh4MdAUHAUQQkbUUHKw41B8tK5QVNchT8KogpAVYd4QEWBx0CwrBRB5WFRQSiPjUHMbrlBAAAAAAAAAAAAAAAAAAAAAAAAAAAAAAAAAAAAAAAAAAAAAAAAAAAAAAAAAAAAAAAAGx6yQV8HVEHye+VAMuZQQORmtD+94xQ/UaHqPpVhhD4HsUlAMC8GQb/9iEH9EDs/9ii2Qc1Mg0FEiyBBBaidQNrmBkB9sUc/vp9qPr9DxT/mkaxAP8ZEQVnAkUBl5Mw/8IWdP7FQ7EBWfTFB2SXdQCoMGUGjdZZAqP98P6ziNUAqHSBAcLa5P5tVUUBB8eRAGw1RQV8pskF84bRBVg4+QSUGs0BmiMM/bw6XPvLtxT6GyCE/Me07P1dDEkAoD51ANXseQXgLikEOz4RB/rcJQfOTTECY4HQ+Y30HPwHeRUFnRJFAOgacQG05B0FuUZo/BwiCP9RlM0DqstpAE0QhQFD8xD+Xc6E/V2zLQVcmED91Wq8+KjqrQX1QzUGnIco+xSCMQYHPJ0AOvPo9gla4P/FjMkGFd4hAqUyBPqTfXUFGlLFBMLvMQdAn6UCXVB0+83ZGQKln0T6Nl1tBRRILQKGQCkGfIoI97iXFQBeCnD97iJNAs3spQcTCikFFFI49",
        "encoding": "base64",
        "path": [
         "array",
         "data"
        ]
       }
      ],
      "model_module": "ipygany",
      "model_module_version": "^0.5.0",
      "model_name": "ComponentModel",
      "state": {
       "_model_module": "ipygany",
       "_model_module_version": "^0.5.0",
       "_model_name": "ComponentModel",
       "_view_count": null,
       "_view_module": null,
       "_view_module_version": "",
       "_view_name": null,
       "array": {
        "dtype": "float32",
        "shape": [
         156
        ]
       },
       "name": "D2"
      }
     },
     "856e04fecab64526be92d89bf10a5fa2": {
      "buffers": [
       {
        "data": "LX2DvH9c0bzuUD49Z8Q7PQWblL2YlYy9GhWIvuvGi77w7KE8EU5wPUsNoz2pyLc9mgrBPe2XxD0Tkbs9X0WmPQlrgz2BTUw9mjPRPE9Ygj1dPaI9LXawPb4LwD2H3cc9qVa6PRixnz1YU349hhhUPaoRhb102mm96YV2vX6hbL0gQoy+V69ivujZTL5vKkK+2082vn6nGb7zV+i9CyCxvWySj75yiFi+F/JIvjXuPb5B8TO+4dEWvkn08r0J5569WphqPe6plj376Z89LMJoPW8sKDx5P669lj1uPT9fmT0NPZ09gZtAPbNpHbtnt9a9G9Upvf6y4DxpdGc9hkmyPS8trz0lWLE9t0QuPb74Mr5yiRO+rwcDvmverL3UJpM9ldWUvW+3ibx38m49SnmSPfRHwj1Glqw9SicSvQwBML6/Dgy+PdTWvVZ09zv3wJg94+q2uxW8gr0zOGW9t2SwO5xofLvyVYy9HcHHvWcUJj0droW9X0ypPaopuT3l84U9TLq3PPagG72SSJG9/aH5vZ5D+b1XJxe+he4ivnu1LT3197I9Y9+UPZr9uz03VaI9N4U6PUmStTrsTLG9cM7ovXy1A75vNeG81yWkPfMmOr37cxE9rn4svdy2NL0Z/748D9hwvclXgj2FS/07xLbgvGrLrz3ly8A93MocvQYwgD2rb0o9Xaq9vUpYgL1v8KU9L/kfPd8xPL4z/Ge+pcuRPe2MpT1vVbg9kMaHPZRP7719F5274D1xvT8cJL5RZgg9eeS0PfzwrT2gK3s9VeqzPR0Npj0Ujbq95BuwPdcSYr4v2y6+BYoYvs6l2L1Iz2O8",
        "encoding": "base64",
        "path": [
         "array",
         "data"
        ]
       }
      ],
      "model_module": "ipygany",
      "model_module_version": "^0.5.0",
      "model_name": "ComponentModel",
      "state": {
       "_model_module": "ipygany",
       "_model_module_version": "^0.5.0",
       "_model_name": "ComponentModel",
       "_view_count": null,
       "_view_module": null,
       "_view_module_version": "",
       "_view_name": null,
       "array": {
        "dtype": "float32",
        "shape": [
         156
        ]
       },
       "name": "XX"
      }
     },
     "9775424521bb4f61885c7a8e8ac2c512": {
      "buffers": [
       {
        "data": "DEATPnE8Dz7PcaQ9aTOjPSRpMj0bgTg9tzqKvLclcrzaAiI+iLg5PtMtSz74U1M+4UZKPiRHOj7Ymh0+hV0EPpVH1z2b+a89xqMkPp3WPT4s1Eo+h/pNPsYyTT4zTz4+4C0gPrzMAD4hO8894ZmwPccCsD0QevY9ezyjPR5t/D0ZCYi9S2C+vdGvvb1tt7O91hmfvZQLX72evWm83JJmPBOvl706L8S9SYu+vVgZsr288J699AVjvQRIvrwA4L08HGywPaKjqz089I09psM5PXxJvjz9bOQ7B96vPWPQqT1gq4Q9/fohPdWEozy26A88+P/xPS43CD6duhI+VW0HPrIuzj1+FKo9BcM5PdjBHLyTsEq9GuYavfCaAT34Nr093YBqPdzz3D3lRiE+h04PPrHf8z3L55Y9VdC+PBdEKb0PaES92wX7u4+WmT3Z/Kk9urBfPddKzTzoaUA97VqsPS1asD1gKmw838V7PMMMrT1uXqY8kbfcPY0lDD50RB4+uoQDPmDl8D3I0Xw9J+DyvMCVDL0TBxW9hHbWu/78LT3dAK09Ixu+PXuGAD7Pohc+aCQSPsVxAD7IDsU8lqO2vJ58Gr17a7s8hWeIPSj0ej06EMg9j1ocPVcMUj0tSXk9mXb7PCkjzj3RnKs9sVczPbZvxD1c1749Km8HPmFVuD1Igao9VJWyOwFjZz373Ko96GkgPinsor17Mpq8Wz/dPUMaRT5Tsyc+VfRMPUYdAr35ZRA+TgzpPXAXkL1EWAM9toAQPvJDlT2jrC8+YAYDPs7hOj5Gpe255q41PikRh711D5+9L/FxvSndJ7zmlIA8",
        "encoding": "base64",
        "path": [
         "array",
         "data"
        ]
       }
      ],
      "model_module": "ipygany",
      "model_module_version": "^0.5.0",
      "model_name": "ComponentModel",
      "state": {
       "_model_module": "ipygany",
       "_model_module_version": "^0.5.0",
       "_model_name": "ComponentModel",
       "_view_count": null,
       "_view_module": null,
       "_view_module_version": "",
       "_view_name": null,
       "array": {
        "dtype": "float32",
        "shape": [
         156
        ]
       },
       "name": "XY"
      }
     },
     "9a94bfdf8610419894168b85c6a5e426": {
      "buffers": [
       {
        "data": "AAAAAAAAAAAAAAAAAAAAAAAAAAAAAAAAAAAAAAAAAAAAAAAAAAAAAAAAAAAAAAAAAAAAAAAAAAAAAAAAAAAAAAAAAAAAAAAAAAAAAAAAAAAAAAAAAAAAAAAAAAAAAAAAAAAAAAAAAAAAAAAAAAAAAAAAAAAAAAAAAAAAAAAAAAAAAAAAAAAAAAAAAAAAAAAAAAAAAAAAAAAAAAAAAAAAAAAAAAAAAAAAAAAAAAAAAAAAAAAAAAAAAAAAAAAAAAAAAAAAAAAAAAAAAAAAAAAAAAAAAAAAAAAAAAAAAAAAAAAAAAAAAAAAAAAAAAAAAAAAAAAAAAAAAAAAAAAAAAAAAAAAAAAAAAAAAAAAAAAAAAAAAAAAAAAAAAAAAAAAAAAAAAAAAAAAAAAAAAAAAAAAAAAAAAAAAAAAAAAAAAAAAAAAAAAAAAAAAAAAAAAAAAAAAAAAAAAAAAAAAAAAAAAAAAAAAAAAAAAAAAAAAAAAAAAAAAAAAAAAAAAAAAAAAAAAAAAAAAAAAAAAAAAAAAAAAAAAAAAAAAAAAAAAAAAAAAAAAAAAAAAAAAAAAAAAAAAAAAAAAAAAAAAAAAAAAAAAAAAAAAAAAAAAAAAAAAAAAAAAAAAAAAAAAAAAAAAAAAAAAAAAAAAAAAAAAAAAAAAAAAAAAAAAAAAA0MelO2ud+rqdX/c6o72Pu8B1xbpqryi6yMWgO4NLiTtsHQO8WDnVuu7S4bo7Vmc7Ejdhu83iarwSLVy7E/MsPNtT0TtXAzm8VF2XOqZnCboCab27dIMZO9MibLuAg7C7QU2IOlayiDxD44k646zjO9gPUrues0O7",
        "encoding": "base64",
        "path": [
         "array",
         "data"
        ]
       }
      ],
      "model_module": "ipygany",
      "model_module_version": "^0.5.0",
      "model_name": "ComponentModel",
      "state": {
       "_model_module": "ipygany",
       "_model_module_version": "^0.5.0",
       "_model_name": "ComponentModel",
       "_view_count": null,
       "_view_module": null,
       "_view_module_version": "",
       "_view_name": null,
       "array": {
        "dtype": "float32",
        "shape": [
         156
        ]
       },
       "name": "D3"
      }
     },
     "a27ac2a24d214ba9a3ecced54c26532a": {
      "buffers": [
       {
        "data": "78liQd47YEGvdvZAFhb0QD4TAUFx3vlAVOp/QSXkgkGK5G1BBaaGQT/fk0G7GJpBZieUQTR0iUHUqGtBHUhHQbpVIUFZOANB37dwQc6+iUEOZ5NBbAuWQTIalkHsa4xB0/ZuQUKzQUFKZRtBaDgEQQnML0EAd1ZBFQ8jQaHpXUGFwpdBGNGGQVnXekFtJG5BW1ZdQd/vNUE7ngNB1SPdQATJnUHEI4RBXAJ4QSiCakHGGVxBz00yQRhQCUFy8dJAoR8GQSy8CUEhLvVA+juqQFLzF0DeBpNA+C0GQVcGCUF1P+lAZIWQQEvC9T+UR7ZAnqpFQejiRUEjI1VBW6JOQeWHJUGWxBFBO9ymQIXwK0EZ6CpB/K0YQcT19ECByxNB/eoIQVqKKkHQPWpBBllTQc7EQUGgEAhBUt4xQFAbQUFbiSRBLYv8QE8T3UDSABBBqQ+gQNEruUASbtpAmcf9QLtPBEFRwqpAppPGQMCtAEEfI5xA1L0sQc+LVUHkZWZBEGU/QYRYQ0H9AwxBjBYSQRnVD0HBCydBLSUdQZFDnkC6sRNBy9gUQSW9R0HUgWBB45xTQaqEP0Fz1utA5tQGQahFFkFupR9AjCL9QBdF7kAI3BBBus+jQFyMzUCFcLtAK/uQQM8AHkEqxfpAMm+QQJdYJEFYyyNBmOJaQVbPDEFDpP9Afv3bQBQCAUGubg1BHb5oQVppY0FoKV5Bn8EnQZKNj0FLpnhBKeDCQJ25DUHnylhB2CNNQZm7SEEPcWlAjxxaQUKhBUEG/X5Bj4xIQQhaiEGj/pxAsTeFQcdbf0HPS1ZBClQ4QaTQ90CCP8w/",
        "encoding": "base64",
        "path": [
         "array",
         "data"
        ]
       }
      ],
      "model_module": "ipygany",
      "model_module_version": "^0.5.0",
      "model_name": "ComponentModel",
      "state": {
       "_model_module": "ipygany",
       "_model_module_version": "^0.5.0",
       "_model_name": "ComponentModel",
       "_view_count": null,
       "_view_module": null,
       "_view_module_version": "",
       "_view_name": null,
       "array": {
        "dtype": "float32",
        "shape": [
         156
        ]
       },
       "name": "S_Mises"
      }
     },
     "a2bae4b046ad40219f03251f4ba6d2a4": {
      "buffers": [
       {
        "data": "jN0GwBpZKMBGByO/vmACv96TfsBtgnbAfI7DwUSzyMFc+Ii/UjqZvu3HDT4BngI9X6j4vR1SSb6dTgG+dDjDPCmhAz4PM4u9cuxvv3hfCL7oVAs77D9VvNSwFr4EMRi+yYKQvcpVEb1rbpU94wqtvdbXV8DbSmTAYolOwNkLXsCQQ7vBJcWdwU9IkMFVR4jB7kF7wZy+S8HZIwvBgPO9wH4wwMEF+ZfBgwaOwXFlhcFrN3jBjuBJwZ8LFsGpLarAHxRlvQUQFD8ABpU/MVojP5fpoL+1Ig3BnAezvXhpOj9Oy50/z2TwPsQn4b+41CvBx6lcwG6lV7/uMh2/sX4/v/tZiDzH62s+iZrTvzLwesGo5ETB1hsmwQLhsMAAxqQ+82OWwL12B8Ab/CO+hgtDv5zGC7/SEWK+hyKWwPNRZsGmrTjBXYnywFd257/f486/XRBwwMqUhsBdvmXANk6TvwGbrr/+qJ7AA/cLwXhD+b/Bb6vAl8WIveuA+b4Rjw+/pe9sv8siUMBkdJXA8rQXwWK4HsG5YkbBHVRjwfQSsb/WUYg+b62APi0T1b5DehW/Ul31vsXrwL8iV7bAmMkLwd+wK8HkYoDArtm1vv/UQMAK36q/KNhHwMMMRcCQjzbAsRG+wBPMwL8iyZG/UdtSwNMirL/4kN2+41tJwPKcXD4BFr6+N8HXwHUddcDjcCE/9pAfv3pUgsFrEKTBsfEuPZ85hz4SiKm+JOG1Pho4EsGg+QDAR9d2wGX9YMFjhOu+3cPwvjt8sz4dAJq95XRPvnKCI72kBBTBDv+avp7ilcHSmXPB2/BKwTif/MDgtjLA",
        "encoding": "base64",
        "path": [
         "array",
         "data"
        ]
       }
      ],
      "model_module": "ipygany",
      "model_module_version": "^0.5.0",
      "model_name": "ComponentModel",
      "state": {
       "_model_module": "ipygany",
       "_model_module_version": "^0.5.0",
       "_model_name": "ComponentModel",
       "_view_count": null,
       "_view_module": null,
       "_view_module_version": "",
       "_view_name": null,
       "array": {
        "dtype": "float32",
        "shape": [
         156
        ]
       },
       "name": "Min"
      }
     },
     "a5a09287d600444d89215be98869cb4e": {
      "buffers": [
       {
        "data": "yw1+QDCxYkBDLR9AyeAgQDBS4D47xeM+zgInwdIMKsGuTJxAD7rDQE4y3kCA5+VAYsPaQE3YykBBu65AotuVQJOxdEDENUFA6wuhQJX/ykDAjt5A0QriQFP13UDru81AOgqwQM6Hj0Ck5WxA0HpCQOBG/j8/EjZAczTUPy+hNUDD2QTBAPDTwPwCwcCIbLTAaH6jwK2phsDpRS3AEFyovyEWCsF1gc/ATqG+wCW7ssDL16XABOuCwNL/OcDicHG/hTNGQPpgZEAZW2VA+voSQD/b0r1hW5LAC0VFQOqPa0CDnGFAbF0GQME7wL7Bnq3AGvkbQIUwgkCIXJJAst2LQN9JeEB5vWJAogJMP3M3z8C38oPAhQdOwJ49SL8bOWhAx3FKPt0IKUAKiKpAbv2OQLo6hkBxqkFA74IOwJMBncC1b3DAb4sAwAnptT+AHRVAtdUTv0CqEr8twm8+rWcOQEILDkClcKC/fVlgwGY44T/Zu9q/QEd/QAvTlEDaiKFAK2R5QMG4HEBUsHU+l081wJKhTMCY3ovAveu6wEA7hD/QQ2hAkVNqQPXhi0AQWptAAyaVQFJ/X0AVCmm/euMowOfOZcAIsOO/YGcwQBiVVT/YESJAj2Dvva3t0z6Dnas+8FMPwETFLkB9NwxAbL3pvubYPkCbN2NAfXZGQJJcW0CUBjBAZzDuv/C+Cj/WFm1AAj2hQM4orsCzUQjBzKh8QA4N3EBaMbNAWZUgQHKZLMDn43FAo1kUQPCwksCC6IY/YHuZQMtoVkA2Eb1AN8eRQDsay0AgBY/A1RTBQLY2zcDnYKHAN9+BwESoEsDQrKq/",
        "encoding": "base64",
        "path": [
         "array",
         "data"
        ]
       }
      ],
      "model_module": "ipygany",
      "model_module_version": "^0.5.0",
      "model_name": "ComponentModel",
      "state": {
       "_model_module": "ipygany",
       "_model_module_version": "^0.5.0",
       "_model_name": "ComponentModel",
       "_view_count": null,
       "_view_module": null,
       "_view_module_version": "",
       "_view_name": null,
       "array": {
        "dtype": "float32",
        "shape": [
         156
        ]
       },
       "name": "Mid"
      }
     },
     "a5c15846fcb34f51872b880c999ef720": {
      "buffers": [
       {
        "data": "",
        "encoding": "base64",
        "path": [
         "vertices",
         "data"
        ]
       }
      ],
      "model_module": "ipygany",
      "model_module_version": "^0.5.0",
      "model_name": "IsoColorModel",
      "state": {
       "_model_module": "ipygany",
       "_model_module_version": "^0.5.0",
       "_model_name": "IsoColorModel",
       "_view_count": null,
       "_view_module": null,
       "_view_module_version": "",
       "_view_name": null,
       "colormap": 34,
       "default_color": "#6395b0",
       "environment_meshes": [],
       "input": [
        "U",
        "D2"
       ],
       "max": 32.5,
       "min": 0.0,
       "parent": "IPY_MODEL_f3009a2e2965401b85ceb4e1f44d1c80",
       "range": [
        0.0,
        32.5
       ],
       "type": "linear",
       "vertices": {
        "dtype": "float32",
        "shape": [
         0
        ]
       }
      }
     },
     "a765360f95f6484f9ca04ee81f071967": {
      "model_module": "@jupyter-widgets/base",
      "model_module_version": "1.2.0",
      "model_name": "LayoutModel",
      "state": {
       "_model_module": "@jupyter-widgets/base",
       "_model_module_version": "1.2.0",
       "_model_name": "LayoutModel",
       "_view_count": null,
       "_view_module": "@jupyter-widgets/base",
       "_view_module_version": "1.2.0",
       "_view_name": "LayoutView",
       "align_content": null,
       "align_items": null,
       "align_self": null,
       "border": null,
       "bottom": null,
       "display": null,
       "flex": null,
       "flex_flow": null,
       "grid_area": "right-sidebar",
       "grid_auto_columns": null,
       "grid_auto_flow": null,
       "grid_auto_rows": null,
       "grid_column": null,
       "grid_gap": null,
       "grid_row": null,
       "grid_template_areas": null,
       "grid_template_columns": null,
       "grid_template_rows": null,
       "height": null,
       "justify_content": null,
       "justify_items": null,
       "left": null,
       "margin": null,
       "max_height": null,
       "max_width": null,
       "min_height": null,
       "min_width": null,
       "object_fit": null,
       "object_position": null,
       "order": null,
       "overflow": null,
       "overflow_x": null,
       "overflow_y": null,
       "padding": null,
       "right": null,
       "top": null,
       "visibility": null,
       "width": null
      }
     },
     "adbdb3c5d4ad4655ad19326d21f08863": {
      "model_module": "ipygany",
      "model_module_version": "^0.5.0",
      "model_name": "DataModel",
      "state": {
       "_model_module": "ipygany",
       "_model_module_version": "^0.5.0",
       "_model_name": "DataModel",
       "_view_count": null,
       "_view_module": null,
       "_view_module_version": "",
       "_view_name": null,
       "components": [
        "IPY_MODEL_3d87d7af4b4747a881f13f8e67257771",
        "IPY_MODEL_56e7cd34a6604ca18652484885412335",
        "IPY_MODEL_fa996d99568444b0ae9f1b054cd053b3"
       ],
       "name": "E_Principal"
      }
     },
     "aeb9dd4e6f6d4d4db680150ea5407f5e": {
      "buffers": [
       {
        "data": "wRO/PbFJwz1BAvM6zLN1O6Oxpj3un509O7yBPd9Ufz3nUJs91Mh4PV8TbT0msFQ9o0ojPU903TwFdms8pWsmPKEPOzxTbBg8sEKVPXY1eT1PL2I9xXxPPeWuKj1vQPA8rEeQPEP5Jzz96h48okz6O1JI0j11H+A9A0TBPdsU7z1PPt096Zu0PUdrpj2ME5890UiaPQ+djj0F3X49ox18PSY36j30grQ9fPykPV2vnz2ww509G/+EPWbsdT1bFGw9SURfO1+JVbvmvPO7MxcXvGJBCrxCZgA7QfgKOxHtV7uZYQi8KTMQvBTE6btjbBU7ra+0PV4HWD1/Awk9N4wCuzZlHbz/HIu8dy7MvCgSRz0bloA9cF2BPdXbkD07Ecq3MBSbPYXBiz1cLUE96+l+PKM5V7xvxMm89ji6u+iclD0CNIA9yFWGPaxjpjyhIe28qEy5u/R8Vz1o1Hc9xKwcPZfLQT3NIjQ9/wPsPMzbx7vVdAI9vZSRu8ZBtjruqQY9fiRbPerJsT0vq5s9FeSHPWqGdD03+4M9pIw4PQlYxrzKtIe8CGDauhkHsLtlt4U8UtE4Papwij1/fok9e8yBPXdIcT3djvi7BQzcvMmcfT1ogGY8T4QjParrVT22roe81utxPJL4JrygshA9/HSXPODs4LzvXsm856zKPembkzt5+pA7kHJmPW4alj3AHQu8S310Pf4lnj2nInU96VTHO6dPXD2cxKA83BGOvOg6gz17UqE9R5HVPX1bkD06Q0y8kre3O1J2n7wx51490662OpblMD0r5387e5sDPYfswj2tkZM9hLyOPQdGeT3VVDu8",
        "encoding": "base64",
        "path": [
         "array",
         "data"
        ]
       }
      ],
      "model_module": "ipygany",
      "model_module_version": "^0.5.0",
      "model_name": "ComponentModel",
      "state": {
       "_model_module": "ipygany",
       "_model_module_version": "^0.5.0",
       "_model_name": "ComponentModel",
       "_view_count": null,
       "_view_module": null,
       "_view_module_version": "",
       "_view_name": null,
       "array": {
        "dtype": "float32",
        "shape": [
         156
        ]
       },
       "name": "YY"
      }
     },
     "b0a087ce255e4bb892cd50b24c2a5c14": {
      "model_module": "ipygany",
      "model_module_version": "^0.5.0",
      "model_name": "DataModel",
      "state": {
       "_model_module": "ipygany",
       "_model_module_version": "^0.5.0",
       "_model_name": "DataModel",
       "_view_count": null,
       "_view_module": null,
       "_view_module_version": "",
       "_view_name": null,
       "components": [
        "IPY_MODEL_6e10f2491a1f46109b5cee3fb0fa8eec",
        "IPY_MODEL_0b16abdb8ae24c0cb3f48863f8f7ea0d",
        "IPY_MODEL_76b6e15363b1447385450b7609f4470a",
        "IPY_MODEL_62637a6ecdca46b0ba497ca16950b445",
        "IPY_MODEL_4bc3a12106db4751a07512fe16403bcd",
        "IPY_MODEL_c2edcc2c868541a0bb050524bf5c3503"
       ],
       "name": "S"
      }
     },
     "c20babf47232488283895fee73881034": {
      "buffers": [
       {
        "data": "5nlhQRqTVkF1LgJBOqoCQX6qqkApKqVA6X/gwDR66sAVpH1BdV6WQZR7qEHdxq5BvvOmQedZmkGqoIRBfjBiQX+cOEEiqRNBSGmBQccSm0E+I6dB1gKqQWwCqUFu8Z1BDcyGQeHjWkGYOzFBQpIUQWtBFEEcaz1BpsoHQdnsRkH+fwfAA5o1v9mZmL6wYEi+BEBavTzhND7E6i4/p4sAQABJ5b/xVIy+POxJvn+DbL1gfM89JIf3u7Xmtj5B4RBAEyMXQcCHJEGF5htB+t3SQI2cvD9Za3zAMb8WQawLJkFARxZBYGKyQNCv3T4zN5fA+vkrQaugU0GxU2hByg9fQazOO0H4iShBoriKQCwTeMDfM2O+h9PmPoxtU0CpHSxB0c2lQJ56IUE7c4NBgi9kQeh7U0Go2hZBNv/Wv7ifT79NmOs9M9S5P6f0w0Al7QpBGfUAQEvpHUALUIlA+Rf9QLF7AUFxQJQ/cLXyv7716EBwUj0+m7hCQduiakHMynxBJB9LQRU8LEH12q1AZcFtP7volD5FrRi/gzxZwOTKiUBfUCtBC3MsQdoKXEHmpXVBT7hoQUNuQkGbeTJAExdhP9YZu70D+Ki//TQKQZE5skC1KRBBlXEyQMGwikA1FHpAQf5iv7d8HEFYAfpAWX30PxUeJkECKDNBwq1IQQS8IkEJUAtBSlCPP5Qxr0AtjClBqHF+QQuiTr4xZ6nAyrY+QQKcpEGpaYpBrlbnQB5ldj84fVdBLCIuQfQwKT6P2GxAWyZwQXibHEEf5o9BvTlgQTczmkE+WIfAT7OUQRoBNb+6Vli9kpPMPnlPcT9YUIu/",
        "encoding": "base64",
        "path": [
         "array",
         "data"
        ]
       }
      ],
      "model_module": "ipygany",
      "model_module_version": "^0.5.0",
      "model_name": "ComponentModel",
      "state": {
       "_model_module": "ipygany",
       "_model_module_version": "^0.5.0",
       "_model_name": "ComponentModel",
       "_view_count": null,
       "_view_module": null,
       "_view_module_version": "",
       "_view_name": null,
       "array": {
        "dtype": "float32",
        "shape": [
         156
        ]
       },
       "name": "Max"
      }
     },
     "c2edcc2c868541a0bb050524bf5c3503": {
      "buffers": [
       {
        "data": "DqFKvk6In734fSk9GhQRPOoqOLw0MLA7C3zlvgGigD6CVxs+atiUPNzRJD1Sdak9hfrHPfa1vj2emNU9WYn5PdL7tj0Ig5E98dhvPlrwgr0Krf28Kq7FvYLAj723Kum9PglMvg1SML5zKrm9LAw2vMPvmz3yDok7O8IZPrKumzzE7JW+6befvSIdOT06rds902Y8PjKSTT5u+Tg+7e98PuYD+r7ikVi+MUNDveL2NT0NOlw9BVEnvkc8sb7IYOW+5wqlPOJ9ML2dQH29TYYzvj5eWL5Sm4C+mVodvI5oDD3DZkA95BSdvG08WDxjlZc9XG6lvey3wLzhtxE+lqo5PXYSVj3kkqQ9EW6CvgnDML4s+8k9tqJdPssTeD5h7d48svSJPrSmIrv43wo+8EyIPQJwYj3zPg691jh7vh12f73wUf89a4KwPuxqQj7Duea9VihivuLZND0SyKs9W5rDPv+axzxHWKQ9DXI3vsSEJ72RGLO8kK2tvUSnF77m9kG9WKxhvFtSf73bE6m9LKZIPXXUpz3NlQG+oRFsvrYrFL7D4A48mMOZvUsh8L2OQMy92IqcPS7b2LwQgoS8v0YSPkz7hj3brVu9GPJjvFng6z2lDew8LgIjPuVmU72oqoC+mzs6vhl7tb0XoF0+h+cgvYxvvr0WwzA8xassvg+FKrzjWgM9G5+JveNVET0O8bQ8KAEbPUwYzbxZFWG+1aHJvCK8gj3dS9C8+8uuvQVPMT6b5TK80gGkPSYdBT71TB++CI4LvZ+nJjxZlwU8V3FPvDgKWjysGfm9eY3AO/sejb5w5GY9eXYJPkdULb1WZuq9",
        "encoding": "base64",
        "path": [
         "array",
         "data"
        ]
       }
      ],
      "model_module": "ipygany",
      "model_module_version": "^0.5.0",
      "model_name": "ComponentModel",
      "state": {
       "_model_module": "ipygany",
       "_model_module_version": "^0.5.0",
       "_model_name": "ComponentModel",
       "_view_count": null,
       "_view_module": null,
       "_view_module_version": "",
       "_view_name": null,
       "array": {
        "dtype": "float32",
        "shape": [
         156
        ]
       },
       "name": "ZX"
      }
     },
     "c809a2d345934701a7a904ea692a59e3": {
      "model_module": "ipygany",
      "model_module_version": "^0.5.0",
      "model_name": "DataModel",
      "state": {
       "_model_module": "ipygany",
       "_model_module_version": "^0.5.0",
       "_model_name": "DataModel",
       "_view_count": null,
       "_view_module": null,
       "_view_module_version": "",
       "_view_name": null,
       "components": [
        "IPY_MODEL_a27ac2a24d214ba9a3ecced54c26532a"
       ],
       "name": "S_Mises"
      }
     },
     "cc48763a36834869a63c523d8179cff5": {
      "model_module": "@jupyter-widgets/controls",
      "model_module_version": "1.5.0",
      "model_name": "DescriptionStyleModel",
      "state": {
       "_model_module": "@jupyter-widgets/controls",
       "_model_module_version": "1.5.0",
       "_model_name": "DescriptionStyleModel",
       "_view_count": null,
       "_view_module": "@jupyter-widgets/base",
       "_view_module_version": "1.2.0",
       "_view_name": "StyleView",
       "description_width": ""
      }
     },
     "cdd21625f9fc4353a23f11666e323827": {
      "model_module": "@jupyter-widgets/controls",
      "model_module_version": "1.5.0",
      "model_name": "GridBoxModel",
      "state": {
       "_dom_classes": [],
       "_model_module": "@jupyter-widgets/controls",
       "_model_module_version": "1.5.0",
       "_model_name": "GridBoxModel",
       "_view_count": null,
       "_view_module": "@jupyter-widgets/controls",
       "_view_module_version": "1.5.0",
       "_view_name": "GridBoxView",
       "box_style": "",
       "children": [
        "IPY_MODEL_3dff32155cd9430c8736df71dd137b0f",
        "IPY_MODEL_02a95dda6ffc4414aa7476a6c1db4fbc",
        "IPY_MODEL_fd8c63b5c2054412863b5217e43fca5e"
       ],
       "layout": "IPY_MODEL_827f3771440b4ac0b0e75c4593efad90"
      }
     },
     "d02df51792e441a8bc4ed257c7df2a43": {
      "buffers": [
       {
        "data": "omV2u+f9wbpEGk46Y2owOZHyX7m7PtY40oYLvNpqnDt55Tw76v60Oa5rSDqYD846iCzzOoXn5zrm3QE7wrcXOwGC3jok8bA60tORO5U4n7obPBq6J2HwuojNrrr4ww27sBt4u9ZnVrt7KeG6fF5duYeevTq5qaY4ZPg6O1ZPvTnxTra7nTfCuj4ZYToikAU7nhhlO4H5eTvs7WA7FMmZO2ACGLydrIO7ZHBtushEXTre5YU6CXVLu6GE17tAdgu8ErHIOSidVroS+pm6E01auz6Ng7vNYpy7kVc/uZu8KjrK9Wk64AK/ubV4gzlDU7g6ACrJuoFY6rlmMTE7LMVhOuMngjo+H8g6Spqeuz7xVrv5m/U6JcGGO8PUljs8igc6JcGnO57IRbhd3yg76r2lOpKsiTqT+Cy6J76YuwBSm7oGPBs7pKLWO6BpbDv3Rwy7CIGJuzvqWzoH49A6edrtO1648jnF18c6nhFfu+KzS7rDx9m5QDHTuj5pOLtl3Gu6uDWJuTE8m7ommc26T/1zOuwUzDojkx27nYePuxktNLtXvS05Efq6usf/Ebv3Xvi6Glu+OjXZA7pFIaG5Nt8xOzUjpDqjkIW6QJeKucBpDzs7hQ863TdGO1GIgLpXdZy7gXViu0Gu3LqNv4Y76qhDuvWR57qD8VY52vdRuwpaT7lOuh869VinulC6MDp8Btw5WXw8Ojpl+bnD2Yi7Uy/1uSr5njrLSf25i43Uul2bVzsoilm5v27HOrbdITuXtUG7yrIpuummSjlKciI5LUB8uX2RhDnQcxe7GiXqOHiaq7vOYYw6oicnO7zEUrq8gw67",
        "encoding": "base64",
        "path": [
         "array",
         "data"
        ]
       }
      ],
      "model_module": "ipygany",
      "model_module_version": "^0.5.0",
      "model_name": "ComponentModel",
      "state": {
       "_model_module": "ipygany",
       "_model_module_version": "^0.5.0",
       "_model_name": "ComponentModel",
       "_view_count": null,
       "_view_module": null,
       "_view_module_version": "",
       "_view_name": null,
       "array": {
        "dtype": "float32",
        "shape": [
         156
        ]
       },
       "name": "ZX"
      }
     },
     "d248e4a6408a43699b0d21668f5cc137": {
      "buffers": [
       {
        "data": "knS3wHFyucAAAAAAAAAAALWVqsG+n6rBAAAAAAAAAABxWizAMA7Gvm3Fjj8e+fc/ZhQNQOyjAUDOx8k/lQ6CP0n2BD8UdUY+ECMmwF8kzL5A9o4/oBr3P/JeDUD8xgFA/8rGPzFCgD+LxAQ/PShYPrgedsG2hCbB7nx1wfAWJsG0kxfAMxaQwHb908CsHA7BfdA0waabXcH99oLBz2aXwalNIMA25ZDAoUrUwHcVDsHLoTTBkKBdwTojg8HdtZfBAAAAAAAAAAAAAAAAAAAAAAAAAAAAAAAAAAAAAAAAAAAAAAAAAAAAAAAAAAAAAAAAzTv0wK671b/wFX0/4uS2PySdNT/1Dpc+gzVuPnQKKr8e3FfA7dPcwHctJ8F81p0+3pNOwcQln8CTbus9on+2PxTLjT9+ju8+6ujYvWL4BMBBn6LA/Z8JwSOe7Dx4JUU/LxQgPpPGYMDrkJbAnMR4v8+9AcBhNwbAHasYv7tfKT9P61a/6Zg3P31ctz9btoI/9+T5vwzl8MAPnEvBV3gUwZNSnsCWlQTAFD04vy5YGj6CAq8+xM2ZPsxAlT+2ELg/X4tnva0Xj8ANGhvBZmbbwBg+VMCu8Qm+3XyrPn1cscAMzgA+wTn/v+49RsDxnO098rUfv3I2MT94lii/DD5Nv2tFQz8B9jU/V5X6wAx0XT7KUNU98BZ2wcrDgcEhr0c+zXUewKhvf8BBnQK/Pe4fP8A+Vj/fbN8/+S4lPoXrM8FOuaHAKA85wSUj+8AcY5I93gK5P2ACdz4t0am+wAmJP/BQvD/jbGq+i8PpP4wtEsB4l7rAdbwfwcsQVMFxkHC9",
        "encoding": "base64",
        "path": [
         "array",
         "data"
        ]
       }
      ],
      "model_module": "ipygany",
      "model_module_version": "^0.5.0",
      "model_name": "ComponentModel",
      "state": {
       "_model_module": "ipygany",
       "_model_module_version": "^0.5.0",
       "_model_name": "ComponentModel",
       "_view_count": null,
       "_view_module": null,
       "_view_module_version": "",
       "_view_name": null,
       "array": {
        "dtype": "float32",
        "shape": [
         156
        ]
       },
       "name": "D1"
      }
     },
     "d57fb5d1cef14953af51baa912c58ab4": {
      "buffers": [
       {
        "data": "7zjeQe84XkKWIR3CyJhdwe84XkLvON5BRRg2wiQos8H7vZErESR/LBFUnCsBwHOr/3/GKfxvmqoTMGcq/hNvKvN/h6gBwMApC0wuLPtdkCzjSaIrBWAfK//PNKv+f5eqACA2K/yhQKsEAEWoB2AcKqaqpkKmqqZCpqqmQqaqpkIBnISpGIAVquw/Eyrz/3GqUySoqwdUkyzkv9wr7bUlLP7zGirkv3iqAwDgJwb8EasFAMapDjA+rPu/SKs6mLusQr5QwobpjcLHi2rCBbSqwUF/ub7J5fVBbcfEwv2Wi8LuvELCTCaswRZqd0CqguJBbpI9LPG3xqvGL7krt7yIKuGPcCoFHPup/Vtcqei/AioHPiAr7HeQK/5X2az9/wipE5DhqzlnAyuskYyrDKUKrKlSbivvB8SqAcCSqSB0UKoYowarxGmuLP0jUyv/P2erezG4KgWwOqx8ZqWrvDKoqzuGrqsI+G6rIgU6Ko8+/KoHMB+qA7DYKQIAKKn8nzqrB+jBLEaJ5KzhLb+rAPAOK/s9O6kOSI+q/v94qf7vOyoDsLwpIKoWKu+Xnyr7X0Ar+VeMKfv/b6vwlSCsE0CQK/r/sCoDgNIpAziaqSMgfyrkZNKr+oMtKwWM56sO2KIqzWC3qv33Ayv8p8Gr5/R+qkiZCSsB+MQpY7y+KxHYH6oEAISpHTDGqwAA/6oCQKqp7qNHrL9sdSv6/0ep7ueAKg4YEqwFYBgr7//lKAZAHyv1UKUs52+WKxIwvSsKABGpEICeKgYATKdAc7isCbDAKgPAiKwGAJin3l/oK1mM6SoBoBir7Ss9LA00jSv4/3+m",
        "encoding": "base64",
        "path": [
         "array",
         "data"
        ]
       }
      ],
      "model_module": "ipygany",
      "model_module_version": "^0.5.0",
      "model_name": "ComponentModel",
      "state": {
       "_model_module": "ipygany",
       "_model_module_version": "^0.5.0",
       "_model_name": "ComponentModel",
       "_view_count": null,
       "_view_module": null,
       "_view_module_version": "",
       "_view_name": null,
       "array": {
        "dtype": "float32",
        "shape": [
         156
        ]
       },
       "name": "F2"
      }
     },
     "d80fbc494ff14cbaacff06e492fae0bb": {
      "model_module": "ipygany",
      "model_module_version": "^0.5.0",
      "model_name": "DataModel",
      "state": {
       "_model_module": "ipygany",
       "_model_module_version": "^0.5.0",
       "_model_name": "DataModel",
       "_view_count": null,
       "_view_module": null,
       "_view_module_version": "",
       "_view_name": null,
       "components": [
        "IPY_MODEL_236fc2a0da664ade8c4b56687826c0be",
        "IPY_MODEL_d57fb5d1cef14953af51baa912c58ab4",
        "IPY_MODEL_589b245ea3484b1e85230c2c7f23991f"
       ],
       "name": "RF"
      }
     },
     "e3aa3336a6084531852a29dec6938246": {
      "model_module": "@jupyter-widgets/base",
      "model_module_version": "1.2.0",
      "model_name": "LayoutModel",
      "state": {
       "_model_module": "@jupyter-widgets/base",
       "_model_module_version": "1.2.0",
       "_model_name": "LayoutModel",
       "_view_count": null,
       "_view_module": "@jupyter-widgets/base",
       "_view_module_version": "1.2.0",
       "_view_name": "LayoutView",
       "align_content": null,
       "align_items": null,
       "align_self": null,
       "border": null,
       "bottom": null,
       "display": null,
       "flex": null,
       "flex_flow": null,
       "grid_area": null,
       "grid_auto_columns": null,
       "grid_auto_flow": null,
       "grid_auto_rows": null,
       "grid_column": null,
       "grid_gap": null,
       "grid_row": null,
       "grid_template_areas": null,
       "grid_template_columns": null,
       "grid_template_rows": null,
       "height": null,
       "justify_content": null,
       "justify_items": null,
       "left": null,
       "margin": null,
       "max_height": null,
       "max_width": null,
       "min_height": null,
       "min_width": null,
       "object_fit": null,
       "object_position": null,
       "order": null,
       "overflow": null,
       "overflow_x": null,
       "overflow_y": null,
       "padding": null,
       "right": null,
       "top": null,
       "visibility": null,
       "width": null
      }
     },
     "e84381e62635437590d9320a58e6465b": {
      "buffers": [
       {
        "data": "D8b8uuAUhzh+f5Q6DdOZuHuupTohBro6KxW3ulB44DuNvl27kKxTu99rZ7tMaWQ6asGsOXxWl7gYrtQ6TjO0OuIltDotLA879dRlOqJM/jrvTBE7nC6PO+JWAzuDnxG6k5aEu8GJDbs2pJu6NhiAuqUPFbonVdO6bMH/O+IIkDuXmpC6bKKBuyLgkLu97oC7EuARu0JRqDrLVzi7ra8Kutf34TvjOM86L1LmOvCRAzv/IzI7KQgaOyK6u7lf5Vi70TW8Okk5/bnWkDi7+CTFu3DpvbvWXbC7hgSMuqA6fTnREpY6urMfO25Vqzu1stQ7M8KZu3dQQ7thC2k6idEjOolz4jeaUYQ57PCdu1PNC7uKiIe7pjs6uwob/rnEMjQ6L6O7ui4HE7vFU1E5Ew8aOef5PzrqQiy7d7jjuiUjCLvGNHS77C82Om12cDrMmNO5P8NYuYv8CLqWjAy7htsIO8AItzpKs7u68FKoOsGAMbkLbne6+nsWuiv1sLpkcaQ6LN0XO+NsBroEfK86Gby3Oy7buTqIRH86JQy9OzvtuTnHjEK69vhguhDxwLncNyO5w9rWOuDIMDtSgW47s/IJOz89GjoRY4Q7qFKkuTTmPztFtm46TNUHOxYZOjuYwzG6eUOWOqkrXDm8uCY7mEo+OB6cbTgpsQc5HSq+um1k9jjuFQo6XVgSu7SnWjokzZy4PQkNuv+r0LpRky47zgK1udnbuTqvVVa648JDu+cKJTtCTBm7jtWcOoRUDLra3Qe71BWFukPub7rf60K6zMyNuLvX5jrma546mJieOVr12jrxA6G6F3CmOhL9IjhgWtm5",
        "encoding": "base64",
        "path": [
         "array",
         "data"
        ]
       }
      ],
      "model_module": "ipygany",
      "model_module_version": "^0.5.0",
      "model_name": "ComponentModel",
      "state": {
       "_model_module": "ipygany",
       "_model_module_version": "^0.5.0",
       "_model_name": "ComponentModel",
       "_view_count": null,
       "_view_module": null,
       "_view_module_version": "",
       "_view_name": null,
       "array": {
        "dtype": "float32",
        "shape": [
         156
        ]
       },
       "name": "YZ"
      }
     },
     "e8815d87037f4665b99421e06ce84102": {
      "model_module": "@jupyter-widgets/controls",
      "model_module_version": "1.5.0",
      "model_name": "SliderStyleModel",
      "state": {
       "_model_module": "@jupyter-widgets/controls",
       "_model_module_version": "1.5.0",
       "_model_name": "SliderStyleModel",
       "_view_count": null,
       "_view_module": "@jupyter-widgets/base",
       "_view_module_version": "1.2.0",
       "_view_name": "StyleView",
       "description_width": "",
       "handle_color": null
      }
     },
     "f3009a2e2965401b85ceb4e1f44d1c80": {
      "buffers": [
       {
        "data": "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",
        "encoding": "base64",
        "path": [
         "tetrahedron_indices",
         "data"
        ]
       },
       {
        "data": "bgAAAHMAAABtAAAAawAAAF8AAAB0AAAAYgAAAG4AAABhAAAAWgAAAFQAAABOAAAAPAAAAEkAAABGAAAAdAAAAHkAAABrAAAAdwAAAHgAAABxAAAAeQAAAHQAAAB7AAAAeQAAAHwAAABeAAAAegAAAHUAAAB0AAAAeQAAAHcAAAB8AAAAPAAAAAgAAABJAAAACAAAAAkAAABJAAAACQAAAAgAAAASAAAASwAAAFIAAAA+AAAAaAAAADcAAABpAAAALQAAAGMAAABuAAAAcgAAAH0AAAB8AAAAcQAAAGcAAAB3AAAANAAAADUAAABOAAAAdgAAAG8AAABkAAAAEwAAAAkAAAASAAAAdwAAAHkAAAB7AAAAeAAAAHcAAAB7AAAAKQAAACgAAABlAAAAcwAAAHYAAABgAAAAQAAAAA8AAAAQAAAAbwAAAHMAAABjAAAAcAAAAHUAAABkAAAAXAAAAEQAAABZAAAAZgAAAHgAAABlAAAAdAAAAF8AAAB6AAAASgAAAFgAAAA9AAAAEAAAAA8AAAAZAAAAUAAAAEUAAABVAAAADwAAABgAAAAZAAAACwAAABQAAAAVAAAAWgAAAFwAAABUAAAANwAAADEAAAA2AAAAEwAAABQAAAAKAAAAaAAAAGkAAABdAAAAVAAAAFsAAABTAAAAcwAAAGAAAABtAAAAPwAAAA0AAAAOAAAATAAAAA8AAABAAAAAGgAAABAAAAAZAAAARQAAAFYAAABVAAAAdgAAAHMAAABvAAAAOwAAADoAAABxAAAAVgAAAFEAAABJAAAAFwAAAAwAAAAWAAAARwAAAEAAAAAQAAAAeQAAAF4AAABrAAAAdQAAAHsAAAB0AAAAeAAAAGYAAABxAAAANwAAADIAAAAxAAAASwAAAD8AAABbAAAAegAAAHYAAAB1AAAARAAAAFwAAABPAAAAUAAAAFUAAABZAAAAbAAAAHoAAABfAAAAcAAAAHsAAAB1AAAARgAAAFEAAAAlAAAAcQAAAGYAAAA7AAAAKAAAACkAAAAhAAAAKwAAACoAAABkAAAAKQAAACIAAAAhAAAAbAAAAHYAAAB6AAAAIgAAACkAAAAqAAAAMwAAADIAAAA4AAAATwAAACAAAAAhAAAALgAAAG4AAABiAAAAUwAAAEIAAABUAAAAZwAAADkAAAByAAAAKgAAAHAAAABkAAAAFAAAABMAAABgAAAAQgAAAE0AAAAzAAAANgAAADEAAAAwAAAAFAAAAAsAAAAKAAAANwAAADYAAABpAAAAPwAAAEwAAABTAAAADgAAAA8AAABMAAAACwAAAAwAAAA+AAAAfQAAAF0AAABqAAAAZwAAAHIAAAB8AAAAPwAAAEsAAAANAAAADgAAAEwAAAA/AAAACQAAAD0AAABJAAAAKAAAACAAAAAGAAAAXwAAABUAAABsAAAATQAAAEwAAABAAAAAFAAAAGwAAAAVAAAAVwAAAFUAAABYAAAATwAAAFoAAABDAAAAOQAAADMAAAA4AAAACwAAABYAAAAMAAAADQAAABgAAAAOAAAADQAAAEsAAAAMAAAASQAAAD0AAABWAAAAbgAAAGMAAABzAAAASgAAAAsAAAA+AAAAVwAAAEoAAAA+AAAAbwAAACsAAABkAAAAKAAAAGYAAABlAAAAIAAAACgAAAAhAAAAQAAAAEcAAABBAAAAUgAAAFcAAAA+AAAAKAAAAAYAAAAHAAAAZwAAAHwAAAB3AAAAUgAAAFwAAABZAAAAUQAAAEUAAAAkAAAAVgAAAFgAAABVAAAAVQAAAFcAAABZAAAAMgAAAE0AAABBAAAAVwAAAFIAAABZAAAAXAAAAFIAAABbAAAAGgAAAF0AAABpAAAASQAAAFEAAABGAAAAFgAAAAsAAAAVAAAAEwAAAG0AAABgAAAAPQAAAFgAAABWAAAAXgAAAHwAAABqAAAASAAAAEYAAAAmAAAADAAAAEsAAAA+AAAATwAAAFwAAABaAAAARAAAAFAAAABZAAAAWgAAAE4AAABDAAAALQAAAG4AAAAuAAAAUwAAAFsAAAA/AAAATQAAAEIAAABTAAAATAAAAE0AAABTAAAAdgAAAGwAAABgAAAAMwAAAE0AAAAyAAAAeAAAAHsAAABlAAAAQQAAAE0AAABAAAAAfAAAAH0AAABqAAAAGAAAAA0AAAAXAAAAaAAAAF0AAAB9AAAADgAAABgAAAAPAAAAUgAAAEsAAABbAAAAdQAAAHYAAABkAAAAOgAAADkAAABnAAAAVAAAAEIAAABOAAAAGQAAABgAAABqAAAAbAAAABQAAABgAAAAXAAAAFsAAABUAAAAKQAAAGUAAABwAAAAZQAAAHsAAABwAAAAHQAAAAEAAAAAAAAAFwAAABYAAABrAAAAAQAAABIAAAAAAAAACAAAADwAAAAAAAAAEgAAAAgAAAAAAAAAKwAAAG8AAAAsAAAAfQAAAHIAAABoAAAAaQAAABsAAAAaAAAAaQAAADYAAAAbAAAAEQAAABoAAAAbAAAAEQAAAAMAAAACAAAAEQAAABsAAAADAAAAAgAAAAMAAAA2AAAAAgAAADYAAAAwAAAABAAAAC8AAAAFAAAAJwAAAC4AAAAvAAAAHAAAACcAAAAEAAAAHAAAAEgAAAAnAAAAHAAAAAQAAAAeAAAAYgAAAB8AAAAeAAAAHwAAABwAAAAeAAAAHQAAABwAAAAfAAAAOwAAAAcAAAAGAAAAOwAAAAYAAAA1AAAAQwAAADUAAAAGAAAAIgAAACoAAAAjAAAAKgAAACsAAAAjAAAAJAAAACMAAAArAAAAJAAAACsAAAAsAAAAJQAAAFEAAAAkAAAAJQAAAC4AAAAmAAAAJgAAAC4AAAAnAAAAYgAAAC8AAAAuAAAARwAAABEAAAAwAAAAMwAAADkAAAA0AAAAOgAAADQAAAA5AAAAQgAAADMAAAA0AAAAZwAAAHEAAAA6AAAANQAAADQAAAA6AAAATgAAAEIAAAA0AAAAQwAAAE4AAAA1AAAAOwAAADUAAAA6AAAAPAAAAB0AAAAAAAAAEAAAABoAAAARAAAAJgAAACcAAABIAAAANgAAAAMAAAAbAAAAAgAAADAAAAARAAAAXwAAAGsAAAAWAAAARgAAACUAAAAmAAAAHgAAAAQAAAAFAAAALwAAAAQAAAAnAAAAYgAAAB4AAAAvAAAAYgAAAGEAAAAfAAAAHQAAAB8AAAABAAAALQAAACUAAAAsAAAAAQAAAB8AAABhAAAAbQAAABIAAABhAAAALAAAAG8AAABjAAAAMgAAAEEAAAAxAAAAQQAAAEcAAAAxAAAAbQAAABMAAAASAAAARQAAAFEAAABWAAAAIwAAACQAAABFAAAAIgAAAEQAAAAhAAAARAAAACIAAABQAAAARAAAAE8AAAAhAAAAZgAAACgAAAAHAAAABwAAADsAAABmAAAAXQAAABoAAAAZAAAAUAAAACIAAAAjAAAACwAAAEoAAAAKAAAAawAAAF4AAAAXAAAAGAAAABcAAABeAAAAcgAAADkAAAA4AAAAJQAAACQAAAAsAAAALQAAACwAAABjAAAAEgAAAAEAAABhAAAAXwAAABYAAAAVAAAAbgAAAG0AAABhAAAAHAAAAB0AAABIAAAAVwAAAFgAAABKAAAASAAAADwAAABGAAAAPAAAAEgAAAAdAAAARQAAAFAAAAAjAAAALwAAAB4AAAAFAAAAagAAABgAAABeAAAAaAAAADgAAAA3AAAANwAAADgAAAAyAAAAOAAAAGgAAAByAAAACQAAABMAAAAKAAAAKQAAAHAAAAAqAAAACQAAAAoAAAA9AAAATwAAAEMAAAAgAAAAIAAAAEMAAAAGAAAAEAAAABEAAABHAAAADQAAAAwAAAAXAAAAMQAAAEcAAAAwAAAASgAAAD0AAAAKAAAAXQAAABkAAABqAAAALQAAAC4AAAAlAAAA",
        "encoding": "base64",
        "path": [
         "triangle_indices",
         "data"
        ]
       },
       {
        "data": "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",
        "encoding": "base64",
        "path": [
         "vertices",
         "data"
        ]
       }
      ],
      "model_module": "ipygany",
      "model_module_version": "^0.5.0",
      "model_name": "TetraMeshModel",
      "state": {
       "_model_module": "ipygany",
       "_model_module_version": "^0.5.0",
       "_model_name": "TetraMeshModel",
       "_view_count": null,
       "_view_module": null,
       "_view_module_version": "",
       "_view_name": null,
       "data": [
        "IPY_MODEL_3838ab7e774d42108b359a7e7ed37330",
        "IPY_MODEL_b0a087ce255e4bb892cd50b24c2a5c14",
        "IPY_MODEL_c809a2d345934701a7a904ea692a59e3",
        "IPY_MODEL_2b31547b6512460383dade897f8e7a40",
        "IPY_MODEL_4012c4f67e944dfcb7b11008947b5806",
        "IPY_MODEL_507e656f756944baad356a4653964ccd",
        "IPY_MODEL_adbdb3c5d4ad4655ad19326d21f08863",
        "IPY_MODEL_d80fbc494ff14cbaacff06e492fae0bb"
       ],
       "default_color": "#6395b0",
       "environment_meshes": [],
       "tetrahedron_indices": {
        "dtype": "uint32",
        "shape": [
         1820
        ]
       },
       "triangle_indices": {
        "dtype": "uint32",
        "shape": [
         744
        ]
       },
       "vertices": {
        "dtype": "float32",
        "shape": [
         468
        ]
       }
      }
     },
     "fa996d99568444b0ae9f1b054cd053b3": {
      "buffers": [
       {
        "data": "5ihFPirIPz6ILtw97JPbPV02vj165rc9BIiDPU9zgj21fFU+uuB2PnvyiD7JYI4+8m6IPkmXfD7mxFg+WhQ4Psq1FT5UhPE9191YPgiVfT7lBIg+kWuKPtoiij7OPoE+OkVcPqmlMj7w0Q8+bybzPR09Dj4jqzA+VboDPkrsOD6TOfQ9s5jpPXak3z1CLtU9o2LHPUG+qD1RF4I9EcaAPYZuAz5m/+09qCbfPQI61T0oyMo99BihPW4NgT0EXX09LQH3PcdoAj4GPO89dXWkPXP44DyD5947Wbz2PaiHAj6F2+Q9i0qKPYEahTzJiA48dx0iPjnqMT5JTEE+JHQ6PrjmGD6/4Ac+BhmHPV8TST0/IZg9e4GQPV6SnT0QSwo+9g7DPSwbET7HaVc+3bs+PkW+Lz5jw/g9yzwNPNifoj26E5c9KguHPa/ltj2fJfc9U3xJPRumbD3r8J09KwfdPdmC5D04tzs9ME/7PDbO1j33QxM9CRkfPudsQj5vdlE+NV4rPoNZIT66usk9fRGSPcsnhz2FdpA97oc8PT9dgT1A0wk+pMcKPrEWNj7F+Us+75VAPtkuKD5kZJE9542HPS6Zhz3uTgo88YnlPcT7tz0rDfw9jbNhPVaImD1SoIo9LhvUPK4pCT6Ja9o9VjM4PcD5Dz4cwBQ+IrI3Ph4zAz7dxec9vaNnPfrrvz1iFgY+sFFTPo/uyz2LwXo9SRobPqdDhT7cqWM+z9q3PSFujj12gDw++qImPqHbuD0zE009kq5GPkCj+j1H+Go+MP43PuKEez6QnIs7Gj50PrIe3j0FJMI9oFWtPTXYez1/tn87",
        "encoding": "base64",
        "path": [
         "array",
         "data"
        ]
       }
      ],
      "model_module": "ipygany",
      "model_module_version": "^0.5.0",
      "model_name": "ComponentModel",
      "state": {
       "_model_module": "ipygany",
       "_model_module_version": "^0.5.0",
       "_model_name": "ComponentModel",
       "_view_count": null,
       "_view_module": null,
       "_view_module_version": "",
       "_view_name": null,
       "array": {
        "dtype": "float32",
        "shape": [
         156
        ]
       },
       "name": "Max"
      }
     },
     "fd8c63b5c2054412863b5217e43fca5e": {
      "model_module": "ipygany",
      "model_module_version": "^0.5.0",
      "model_name": "ColorBarModel",
      "state": {
       "_dom_classes": [],
       "_model_module": "ipygany",
       "_model_module_version": "^0.5.0",
       "_model_name": "ColorBarModel",
       "_view_count": null,
       "_view_module": "ipygany",
       "_view_module_version": "^0.5.0",
       "_view_name": "ColorBarView",
       "layout": "IPY_MODEL_a765360f95f6484f9ca04ee81f071967",
       "parent": "IPY_MODEL_a5c15846fcb34f51872b880c999ef720"
      }
     }
    },
    "version_major": 2,
    "version_minor": 0
   }
  }
 },
 "nbformat": 4,
 "nbformat_minor": 4
}